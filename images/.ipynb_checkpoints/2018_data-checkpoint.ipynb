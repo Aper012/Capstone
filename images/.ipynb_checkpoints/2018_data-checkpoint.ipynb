{
 "cells": [
  {
   "cell_type": "code",
   "execution_count": 1,
   "metadata": {
    "ExecuteTime": {
     "end_time": "2021-04-07T17:52:56.857198Z",
     "start_time": "2021-04-07T17:52:56.099796Z"
    }
   },
   "outputs": [],
   "source": [
    "import pandas as pd\n",
    "import numpy as np\n",
    "import seaborn as sns\n",
    "import matplotlib.pyplot as plt\n",
    "%matplotlib inline"
   ]
  },
  {
   "cell_type": "code",
   "execution_count": 2,
   "metadata": {
    "ExecuteTime": {
     "end_time": "2021-04-07T17:53:06.399594Z",
     "start_time": "2021-04-07T17:53:06.196026Z"
    }
   },
   "outputs": [
    {
     "data": {
      "text/html": [
       "<div>\n",
       "<style scoped>\n",
       "    .dataframe tbody tr th:only-of-type {\n",
       "        vertical-align: middle;\n",
       "    }\n",
       "\n",
       "    .dataframe tbody tr th {\n",
       "        vertical-align: top;\n",
       "    }\n",
       "\n",
       "    .dataframe thead th {\n",
       "        text-align: right;\n",
       "    }\n",
       "</style>\n",
       "<table border=\"1\" class=\"dataframe\">\n",
       "  <thead>\n",
       "    <tr style=\"text-align: right;\">\n",
       "      <th></th>\n",
       "      <th>Unnamed: 0</th>\n",
       "      <th>Revenue</th>\n",
       "      <th>Revenue Growth</th>\n",
       "      <th>Cost of Revenue</th>\n",
       "      <th>Gross Profit</th>\n",
       "      <th>R&amp;D Expenses</th>\n",
       "      <th>SG&amp;A Expense</th>\n",
       "      <th>Operating Expenses</th>\n",
       "      <th>Operating Income</th>\n",
       "      <th>Interest Expense</th>\n",
       "      <th>...</th>\n",
       "      <th>Receivables growth</th>\n",
       "      <th>Inventory Growth</th>\n",
       "      <th>Asset Growth</th>\n",
       "      <th>Book Value per Share Growth</th>\n",
       "      <th>Debt Growth</th>\n",
       "      <th>R&amp;D Expense Growth</th>\n",
       "      <th>SG&amp;A Expenses Growth</th>\n",
       "      <th>Sector</th>\n",
       "      <th>2019 PRICE VAR [%]</th>\n",
       "      <th>Class</th>\n",
       "    </tr>\n",
       "  </thead>\n",
       "  <tbody>\n",
       "    <tr>\n",
       "      <th>0</th>\n",
       "      <td>CMCSA</td>\n",
       "      <td>9.450700e+10</td>\n",
       "      <td>0.1115</td>\n",
       "      <td>0.000000e+00</td>\n",
       "      <td>9.450700e+10</td>\n",
       "      <td>0.000000e+00</td>\n",
       "      <td>6.482200e+10</td>\n",
       "      <td>7.549800e+10</td>\n",
       "      <td>1.900900e+10</td>\n",
       "      <td>3.542000e+09</td>\n",
       "      <td>...</td>\n",
       "      <td>0.2570</td>\n",
       "      <td>0.0000</td>\n",
       "      <td>0.3426</td>\n",
       "      <td>0.0722</td>\n",
       "      <td>0.7309</td>\n",
       "      <td>0.0000</td>\n",
       "      <td>0.1308</td>\n",
       "      <td>Consumer Cyclical</td>\n",
       "      <td>32.794573</td>\n",
       "      <td>1</td>\n",
       "    </tr>\n",
       "    <tr>\n",
       "      <th>1</th>\n",
       "      <td>KMI</td>\n",
       "      <td>1.414400e+10</td>\n",
       "      <td>0.0320</td>\n",
       "      <td>7.288000e+09</td>\n",
       "      <td>6.856000e+09</td>\n",
       "      <td>0.000000e+00</td>\n",
       "      <td>6.010000e+08</td>\n",
       "      <td>3.062000e+09</td>\n",
       "      <td>3.794000e+09</td>\n",
       "      <td>1.917000e+09</td>\n",
       "      <td>...</td>\n",
       "      <td>0.0345</td>\n",
       "      <td>-0.0920</td>\n",
       "      <td>-0.0024</td>\n",
       "      <td>0.0076</td>\n",
       "      <td>-0.0137</td>\n",
       "      <td>0.0000</td>\n",
       "      <td>-0.1265</td>\n",
       "      <td>Energy</td>\n",
       "      <td>40.588068</td>\n",
       "      <td>1</td>\n",
       "    </tr>\n",
       "    <tr>\n",
       "      <th>2</th>\n",
       "      <td>INTC</td>\n",
       "      <td>7.084800e+10</td>\n",
       "      <td>0.1289</td>\n",
       "      <td>2.711100e+10</td>\n",
       "      <td>4.373700e+10</td>\n",
       "      <td>1.354300e+10</td>\n",
       "      <td>6.750000e+09</td>\n",
       "      <td>2.042100e+10</td>\n",
       "      <td>2.331600e+10</td>\n",
       "      <td>-1.260000e+08</td>\n",
       "      <td>...</td>\n",
       "      <td>0.1989</td>\n",
       "      <td>0.0387</td>\n",
       "      <td>0.0382</td>\n",
       "      <td>0.1014</td>\n",
       "      <td>-0.0169</td>\n",
       "      <td>0.0390</td>\n",
       "      <td>-0.0942</td>\n",
       "      <td>Technology</td>\n",
       "      <td>30.295514</td>\n",
       "      <td>1</td>\n",
       "    </tr>\n",
       "    <tr>\n",
       "      <th>3</th>\n",
       "      <td>MU</td>\n",
       "      <td>3.039100e+10</td>\n",
       "      <td>0.4955</td>\n",
       "      <td>1.250000e+10</td>\n",
       "      <td>1.789100e+10</td>\n",
       "      <td>2.141000e+09</td>\n",
       "      <td>8.130000e+08</td>\n",
       "      <td>2.897000e+09</td>\n",
       "      <td>1.499400e+10</td>\n",
       "      <td>3.420000e+08</td>\n",
       "      <td>...</td>\n",
       "      <td>0.4573</td>\n",
       "      <td>0.1511</td>\n",
       "      <td>0.2275</td>\n",
       "      <td>0.6395</td>\n",
       "      <td>-0.5841</td>\n",
       "      <td>0.1738</td>\n",
       "      <td>0.0942</td>\n",
       "      <td>Technology</td>\n",
       "      <td>64.213737</td>\n",
       "      <td>1</td>\n",
       "    </tr>\n",
       "    <tr>\n",
       "      <th>4</th>\n",
       "      <td>GE</td>\n",
       "      <td>1.216150e+11</td>\n",
       "      <td>0.0285</td>\n",
       "      <td>9.546100e+10</td>\n",
       "      <td>2.615400e+10</td>\n",
       "      <td>0.000000e+00</td>\n",
       "      <td>1.811100e+10</td>\n",
       "      <td>4.071100e+10</td>\n",
       "      <td>-1.455700e+10</td>\n",
       "      <td>5.059000e+09</td>\n",
       "      <td>...</td>\n",
       "      <td>-0.2781</td>\n",
       "      <td>-0.2892</td>\n",
       "      <td>-0.1575</td>\n",
       "      <td>-0.4487</td>\n",
       "      <td>-0.2297</td>\n",
       "      <td>0.0000</td>\n",
       "      <td>0.0308</td>\n",
       "      <td>Industrials</td>\n",
       "      <td>44.757840</td>\n",
       "      <td>1</td>\n",
       "    </tr>\n",
       "  </tbody>\n",
       "</table>\n",
       "<p>5 rows × 225 columns</p>\n",
       "</div>"
      ],
      "text/plain": [
       "  Unnamed: 0       Revenue  Revenue Growth  Cost of Revenue  Gross Profit  \\\n",
       "0      CMCSA  9.450700e+10          0.1115     0.000000e+00  9.450700e+10   \n",
       "1        KMI  1.414400e+10          0.0320     7.288000e+09  6.856000e+09   \n",
       "2       INTC  7.084800e+10          0.1289     2.711100e+10  4.373700e+10   \n",
       "3         MU  3.039100e+10          0.4955     1.250000e+10  1.789100e+10   \n",
       "4         GE  1.216150e+11          0.0285     9.546100e+10  2.615400e+10   \n",
       "\n",
       "   R&D Expenses  SG&A Expense  Operating Expenses  Operating Income  \\\n",
       "0  0.000000e+00  6.482200e+10        7.549800e+10      1.900900e+10   \n",
       "1  0.000000e+00  6.010000e+08        3.062000e+09      3.794000e+09   \n",
       "2  1.354300e+10  6.750000e+09        2.042100e+10      2.331600e+10   \n",
       "3  2.141000e+09  8.130000e+08        2.897000e+09      1.499400e+10   \n",
       "4  0.000000e+00  1.811100e+10        4.071100e+10     -1.455700e+10   \n",
       "\n",
       "   Interest Expense  ...  Receivables growth  Inventory Growth  Asset Growth  \\\n",
       "0      3.542000e+09  ...              0.2570            0.0000        0.3426   \n",
       "1      1.917000e+09  ...              0.0345           -0.0920       -0.0024   \n",
       "2     -1.260000e+08  ...              0.1989            0.0387        0.0382   \n",
       "3      3.420000e+08  ...              0.4573            0.1511        0.2275   \n",
       "4      5.059000e+09  ...             -0.2781           -0.2892       -0.1575   \n",
       "\n",
       "   Book Value per Share Growth  Debt Growth  R&D Expense Growth  \\\n",
       "0                       0.0722       0.7309              0.0000   \n",
       "1                       0.0076      -0.0137              0.0000   \n",
       "2                       0.1014      -0.0169              0.0390   \n",
       "3                       0.6395      -0.5841              0.1738   \n",
       "4                      -0.4487      -0.2297              0.0000   \n",
       "\n",
       "   SG&A Expenses Growth             Sector  2019 PRICE VAR [%]  Class  \n",
       "0                0.1308  Consumer Cyclical           32.794573      1  \n",
       "1               -0.1265             Energy           40.588068      1  \n",
       "2               -0.0942         Technology           30.295514      1  \n",
       "3                0.0942         Technology           64.213737      1  \n",
       "4                0.0308        Industrials           44.757840      1  \n",
       "\n",
       "[5 rows x 225 columns]"
      ]
     },
     "execution_count": 2,
     "metadata": {},
     "output_type": "execute_result"
    }
   ],
   "source": [
    "df = pd.read_csv('../csv_files/2018_Financial_Data.csv')\n",
    "df.head()"
   ]
  },
  {
   "cell_type": "code",
   "execution_count": 3,
   "metadata": {
    "ExecuteTime": {
     "end_time": "2021-04-07T17:53:06.980690Z",
     "start_time": "2021-04-07T17:53:06.969117Z"
    }
   },
   "outputs": [
    {
     "name": "stdout",
     "output_type": "stream",
     "text": [
      "<class 'pandas.core.frame.DataFrame'>\n",
      "RangeIndex: 4392 entries, 0 to 4391\n",
      "Columns: 225 entries, Unnamed: 0 to Class\n",
      "dtypes: float64(222), int64(1), object(2)\n",
      "memory usage: 7.5+ MB\n"
     ]
    }
   ],
   "source": [
    "df.info()\n"
   ]
  },
  {
   "cell_type": "code",
   "execution_count": 4,
   "metadata": {
    "ExecuteTime": {
     "end_time": "2021-04-07T17:53:07.362756Z",
     "start_time": "2021-04-07T17:53:07.352206Z"
    }
   },
   "outputs": [
    {
     "data": {
      "text/plain": [
       "Unnamed: 0                0\n",
       "Revenue                  46\n",
       "Revenue Growth          139\n",
       "Cost of Revenue         185\n",
       "Gross Profit             64\n",
       "                       ... \n",
       "R&D Expense Growth      259\n",
       "SG&A Expenses Growth    248\n",
       "Sector                    0\n",
       "2019 PRICE VAR [%]        0\n",
       "Class                     0\n",
       "Length: 225, dtype: int64"
      ]
     },
     "execution_count": 4,
     "metadata": {},
     "output_type": "execute_result"
    }
   ],
   "source": [
    "df.isna().sum()"
   ]
  },
  {
   "cell_type": "code",
   "execution_count": 5,
   "metadata": {
    "ExecuteTime": {
     "end_time": "2021-04-07T17:53:07.715175Z",
     "start_time": "2021-04-07T17:53:07.706467Z"
    }
   },
   "outputs": [],
   "source": [
    "data = df[df['Class'] == 1]\n"
   ]
  },
  {
   "cell_type": "code",
   "execution_count": 6,
   "metadata": {
    "ExecuteTime": {
     "end_time": "2021-04-07T17:53:08.058383Z",
     "start_time": "2021-04-07T17:53:08.047386Z"
    }
   },
   "outputs": [
    {
     "name": "stdout",
     "output_type": "stream",
     "text": [
      "<class 'pandas.core.frame.DataFrame'>\n",
      "Int64Index: 3046 entries, 0 to 4391\n",
      "Columns: 225 entries, Unnamed: 0 to Class\n",
      "dtypes: float64(222), int64(1), object(2)\n",
      "memory usage: 5.3+ MB\n"
     ]
    }
   ],
   "source": [
    "data.info()\n"
   ]
  },
  {
   "cell_type": "code",
   "execution_count": 7,
   "metadata": {
    "ExecuteTime": {
     "end_time": "2021-04-07T17:53:08.444477Z",
     "start_time": "2021-04-07T17:53:08.418348Z"
    }
   },
   "outputs": [
    {
     "data": {
      "text/html": [
       "<div>\n",
       "<style scoped>\n",
       "    .dataframe tbody tr th:only-of-type {\n",
       "        vertical-align: middle;\n",
       "    }\n",
       "\n",
       "    .dataframe tbody tr th {\n",
       "        vertical-align: top;\n",
       "    }\n",
       "\n",
       "    .dataframe thead th {\n",
       "        text-align: right;\n",
       "    }\n",
       "</style>\n",
       "<table border=\"1\" class=\"dataframe\">\n",
       "  <thead>\n",
       "    <tr style=\"text-align: right;\">\n",
       "      <th></th>\n",
       "      <th>Unnamed: 0</th>\n",
       "      <th>Revenue</th>\n",
       "      <th>Revenue Growth</th>\n",
       "      <th>Cost of Revenue</th>\n",
       "      <th>Gross Profit</th>\n",
       "      <th>R&amp;D Expenses</th>\n",
       "      <th>SG&amp;A Expense</th>\n",
       "      <th>Operating Expenses</th>\n",
       "      <th>Operating Income</th>\n",
       "      <th>Interest Expense</th>\n",
       "      <th>...</th>\n",
       "      <th>Receivables growth</th>\n",
       "      <th>Inventory Growth</th>\n",
       "      <th>Asset Growth</th>\n",
       "      <th>Book Value per Share Growth</th>\n",
       "      <th>Debt Growth</th>\n",
       "      <th>R&amp;D Expense Growth</th>\n",
       "      <th>SG&amp;A Expenses Growth</th>\n",
       "      <th>Sector</th>\n",
       "      <th>2019 PRICE VAR [%]</th>\n",
       "      <th>Class</th>\n",
       "    </tr>\n",
       "  </thead>\n",
       "  <tbody>\n",
       "    <tr>\n",
       "      <th>0</th>\n",
       "      <td>CMCSA</td>\n",
       "      <td>9.450700e+10</td>\n",
       "      <td>0.1115</td>\n",
       "      <td>0.000000e+00</td>\n",
       "      <td>9.450700e+10</td>\n",
       "      <td>0.000000e+00</td>\n",
       "      <td>6.482200e+10</td>\n",
       "      <td>7.549800e+10</td>\n",
       "      <td>1.900900e+10</td>\n",
       "      <td>3.542000e+09</td>\n",
       "      <td>...</td>\n",
       "      <td>0.2570</td>\n",
       "      <td>0.0000</td>\n",
       "      <td>0.3426</td>\n",
       "      <td>0.0722</td>\n",
       "      <td>0.7309</td>\n",
       "      <td>0.0000</td>\n",
       "      <td>0.1308</td>\n",
       "      <td>Consumer Cyclical</td>\n",
       "      <td>32.794573</td>\n",
       "      <td>1</td>\n",
       "    </tr>\n",
       "    <tr>\n",
       "      <th>1</th>\n",
       "      <td>KMI</td>\n",
       "      <td>1.414400e+10</td>\n",
       "      <td>0.0320</td>\n",
       "      <td>7.288000e+09</td>\n",
       "      <td>6.856000e+09</td>\n",
       "      <td>0.000000e+00</td>\n",
       "      <td>6.010000e+08</td>\n",
       "      <td>3.062000e+09</td>\n",
       "      <td>3.794000e+09</td>\n",
       "      <td>1.917000e+09</td>\n",
       "      <td>...</td>\n",
       "      <td>0.0345</td>\n",
       "      <td>-0.0920</td>\n",
       "      <td>-0.0024</td>\n",
       "      <td>0.0076</td>\n",
       "      <td>-0.0137</td>\n",
       "      <td>0.0000</td>\n",
       "      <td>-0.1265</td>\n",
       "      <td>Energy</td>\n",
       "      <td>40.588068</td>\n",
       "      <td>1</td>\n",
       "    </tr>\n",
       "    <tr>\n",
       "      <th>2</th>\n",
       "      <td>INTC</td>\n",
       "      <td>7.084800e+10</td>\n",
       "      <td>0.1289</td>\n",
       "      <td>2.711100e+10</td>\n",
       "      <td>4.373700e+10</td>\n",
       "      <td>1.354300e+10</td>\n",
       "      <td>6.750000e+09</td>\n",
       "      <td>2.042100e+10</td>\n",
       "      <td>2.331600e+10</td>\n",
       "      <td>-1.260000e+08</td>\n",
       "      <td>...</td>\n",
       "      <td>0.1989</td>\n",
       "      <td>0.0387</td>\n",
       "      <td>0.0382</td>\n",
       "      <td>0.1014</td>\n",
       "      <td>-0.0169</td>\n",
       "      <td>0.0390</td>\n",
       "      <td>-0.0942</td>\n",
       "      <td>Technology</td>\n",
       "      <td>30.295514</td>\n",
       "      <td>1</td>\n",
       "    </tr>\n",
       "    <tr>\n",
       "      <th>3</th>\n",
       "      <td>MU</td>\n",
       "      <td>3.039100e+10</td>\n",
       "      <td>0.4955</td>\n",
       "      <td>1.250000e+10</td>\n",
       "      <td>1.789100e+10</td>\n",
       "      <td>2.141000e+09</td>\n",
       "      <td>8.130000e+08</td>\n",
       "      <td>2.897000e+09</td>\n",
       "      <td>1.499400e+10</td>\n",
       "      <td>3.420000e+08</td>\n",
       "      <td>...</td>\n",
       "      <td>0.4573</td>\n",
       "      <td>0.1511</td>\n",
       "      <td>0.2275</td>\n",
       "      <td>0.6395</td>\n",
       "      <td>-0.5841</td>\n",
       "      <td>0.1738</td>\n",
       "      <td>0.0942</td>\n",
       "      <td>Technology</td>\n",
       "      <td>64.213737</td>\n",
       "      <td>1</td>\n",
       "    </tr>\n",
       "    <tr>\n",
       "      <th>4</th>\n",
       "      <td>GE</td>\n",
       "      <td>1.216150e+11</td>\n",
       "      <td>0.0285</td>\n",
       "      <td>9.546100e+10</td>\n",
       "      <td>2.615400e+10</td>\n",
       "      <td>0.000000e+00</td>\n",
       "      <td>1.811100e+10</td>\n",
       "      <td>4.071100e+10</td>\n",
       "      <td>-1.455700e+10</td>\n",
       "      <td>5.059000e+09</td>\n",
       "      <td>...</td>\n",
       "      <td>-0.2781</td>\n",
       "      <td>-0.2892</td>\n",
       "      <td>-0.1575</td>\n",
       "      <td>-0.4487</td>\n",
       "      <td>-0.2297</td>\n",
       "      <td>0.0000</td>\n",
       "      <td>0.0308</td>\n",
       "      <td>Industrials</td>\n",
       "      <td>44.757840</td>\n",
       "      <td>1</td>\n",
       "    </tr>\n",
       "  </tbody>\n",
       "</table>\n",
       "<p>5 rows × 225 columns</p>\n",
       "</div>"
      ],
      "text/plain": [
       "  Unnamed: 0       Revenue  Revenue Growth  Cost of Revenue  Gross Profit  \\\n",
       "0      CMCSA  9.450700e+10          0.1115     0.000000e+00  9.450700e+10   \n",
       "1        KMI  1.414400e+10          0.0320     7.288000e+09  6.856000e+09   \n",
       "2       INTC  7.084800e+10          0.1289     2.711100e+10  4.373700e+10   \n",
       "3         MU  3.039100e+10          0.4955     1.250000e+10  1.789100e+10   \n",
       "4         GE  1.216150e+11          0.0285     9.546100e+10  2.615400e+10   \n",
       "\n",
       "   R&D Expenses  SG&A Expense  Operating Expenses  Operating Income  \\\n",
       "0  0.000000e+00  6.482200e+10        7.549800e+10      1.900900e+10   \n",
       "1  0.000000e+00  6.010000e+08        3.062000e+09      3.794000e+09   \n",
       "2  1.354300e+10  6.750000e+09        2.042100e+10      2.331600e+10   \n",
       "3  2.141000e+09  8.130000e+08        2.897000e+09      1.499400e+10   \n",
       "4  0.000000e+00  1.811100e+10        4.071100e+10     -1.455700e+10   \n",
       "\n",
       "   Interest Expense  ...  Receivables growth  Inventory Growth  Asset Growth  \\\n",
       "0      3.542000e+09  ...              0.2570            0.0000        0.3426   \n",
       "1      1.917000e+09  ...              0.0345           -0.0920       -0.0024   \n",
       "2     -1.260000e+08  ...              0.1989            0.0387        0.0382   \n",
       "3      3.420000e+08  ...              0.4573            0.1511        0.2275   \n",
       "4      5.059000e+09  ...             -0.2781           -0.2892       -0.1575   \n",
       "\n",
       "   Book Value per Share Growth  Debt Growth  R&D Expense Growth  \\\n",
       "0                       0.0722       0.7309              0.0000   \n",
       "1                       0.0076      -0.0137              0.0000   \n",
       "2                       0.1014      -0.0169              0.0390   \n",
       "3                       0.6395      -0.5841              0.1738   \n",
       "4                      -0.4487      -0.2297              0.0000   \n",
       "\n",
       "   SG&A Expenses Growth             Sector  2019 PRICE VAR [%]  Class  \n",
       "0                0.1308  Consumer Cyclical           32.794573      1  \n",
       "1               -0.1265             Energy           40.588068      1  \n",
       "2               -0.0942         Technology           30.295514      1  \n",
       "3                0.0942         Technology           64.213737      1  \n",
       "4                0.0308        Industrials           44.757840      1  \n",
       "\n",
       "[5 rows x 225 columns]"
      ]
     },
     "execution_count": 7,
     "metadata": {},
     "output_type": "execute_result"
    }
   ],
   "source": [
    "data.head()"
   ]
  },
  {
   "cell_type": "code",
   "execution_count": 8,
   "metadata": {
    "ExecuteTime": {
     "end_time": "2021-04-07T17:53:08.791290Z",
     "start_time": "2021-04-07T17:53:08.784276Z"
    }
   },
   "outputs": [
    {
     "data": {
      "text/plain": [
       "1    3046\n",
       "Name: Class, dtype: int64"
      ]
     },
     "execution_count": 8,
     "metadata": {},
     "output_type": "execute_result"
    }
   ],
   "source": [
    "data.Class.value_counts()"
   ]
  },
  {
   "cell_type": "code",
   "execution_count": 9,
   "metadata": {
    "ExecuteTime": {
     "end_time": "2021-04-07T17:53:20.123241Z",
     "start_time": "2021-04-07T17:53:19.452772Z"
    }
   },
   "outputs": [],
   "source": [
    "data.to_csv('2018_clean')"
   ]
  },
  {
   "cell_type": "code",
   "execution_count": null,
   "metadata": {},
   "outputs": [],
   "source": []
  }
 ],
 "metadata": {
  "kernelspec": {
   "display_name": "Python 3",
   "language": "python",
   "name": "python3"
  },
  "language_info": {
   "codemirror_mode": {
    "name": "ipython",
    "version": 3
   },
   "file_extension": ".py",
   "mimetype": "text/x-python",
   "name": "python",
   "nbconvert_exporter": "python",
   "pygments_lexer": "ipython3",
   "version": "3.6.9"
  },
  "toc": {
   "base_numbering": 1,
   "nav_menu": {},
   "number_sections": true,
   "sideBar": true,
   "skip_h1_title": false,
   "title_cell": "Table of Contents",
   "title_sidebar": "Contents",
   "toc_cell": false,
   "toc_position": {},
   "toc_section_display": true,
   "toc_window_display": false
  },
  "varInspector": {
   "cols": {
    "lenName": 16,
    "lenType": 16,
    "lenVar": 40
   },
   "kernels_config": {
    "python": {
     "delete_cmd_postfix": "",
     "delete_cmd_prefix": "del ",
     "library": "var_list.py",
     "varRefreshCmd": "print(var_dic_list())"
    },
    "r": {
     "delete_cmd_postfix": ") ",
     "delete_cmd_prefix": "rm(",
     "library": "var_list.r",
     "varRefreshCmd": "cat(var_dic_list()) "
    }
   },
   "types_to_exclude": [
    "module",
    "function",
    "builtin_function_or_method",
    "instance",
    "_Feature"
   ],
   "window_display": false
  }
 },
 "nbformat": 4,
 "nbformat_minor": 4
}
