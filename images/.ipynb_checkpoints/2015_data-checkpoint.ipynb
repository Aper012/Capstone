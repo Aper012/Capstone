{
 "cells": [
  {
   "cell_type": "code",
   "execution_count": 1,
   "metadata": {
    "ExecuteTime": {
     "end_time": "2021-04-07T17:49:39.252067Z",
     "start_time": "2021-04-07T17:49:38.502964Z"
    }
   },
   "outputs": [],
   "source": [
    "import pandas as pd\n",
    "import numpy as np\n",
    "import matplotlib.pyplot as plt\n",
    "%matplotlib inline\n",
    "\n",
    "import seaborn as sns"
   ]
  },
  {
   "cell_type": "code",
   "execution_count": 2,
   "metadata": {
    "ExecuteTime": {
     "end_time": "2021-04-07T17:49:39.471165Z",
     "start_time": "2021-04-07T17:49:39.276874Z"
    }
   },
   "outputs": [
    {
     "data": {
      "text/html": [
       "<div>\n",
       "<style scoped>\n",
       "    .dataframe tbody tr th:only-of-type {\n",
       "        vertical-align: middle;\n",
       "    }\n",
       "\n",
       "    .dataframe tbody tr th {\n",
       "        vertical-align: top;\n",
       "    }\n",
       "\n",
       "    .dataframe thead th {\n",
       "        text-align: right;\n",
       "    }\n",
       "</style>\n",
       "<table border=\"1\" class=\"dataframe\">\n",
       "  <thead>\n",
       "    <tr style=\"text-align: right;\">\n",
       "      <th></th>\n",
       "      <th>Unnamed: 0</th>\n",
       "      <th>Revenue</th>\n",
       "      <th>Revenue Growth</th>\n",
       "      <th>Cost of Revenue</th>\n",
       "      <th>Gross Profit</th>\n",
       "      <th>R&amp;D Expenses</th>\n",
       "      <th>SG&amp;A Expense</th>\n",
       "      <th>Operating Expenses</th>\n",
       "      <th>Operating Income</th>\n",
       "      <th>Interest Expense</th>\n",
       "      <th>...</th>\n",
       "      <th>Receivables growth</th>\n",
       "      <th>Inventory Growth</th>\n",
       "      <th>Asset Growth</th>\n",
       "      <th>Book Value per Share Growth</th>\n",
       "      <th>Debt Growth</th>\n",
       "      <th>R&amp;D Expense Growth</th>\n",
       "      <th>SG&amp;A Expenses Growth</th>\n",
       "      <th>Sector</th>\n",
       "      <th>2016 PRICE VAR [%]</th>\n",
       "      <th>Class</th>\n",
       "    </tr>\n",
       "  </thead>\n",
       "  <tbody>\n",
       "    <tr>\n",
       "      <th>0</th>\n",
       "      <td>PG</td>\n",
       "      <td>7.074900e+10</td>\n",
       "      <td>-0.0491</td>\n",
       "      <td>3.705600e+10</td>\n",
       "      <td>3.369300e+10</td>\n",
       "      <td>0.000000e+00</td>\n",
       "      <td>2.061600e+10</td>\n",
       "      <td>2.264400e+10</td>\n",
       "      <td>1.104900e+10</td>\n",
       "      <td>6.260000e+08</td>\n",
       "      <td>...</td>\n",
       "      <td>-0.2847</td>\n",
       "      <td>-0.2634</td>\n",
       "      <td>-0.1024</td>\n",
       "      <td>-0.1013</td>\n",
       "      <td>-0.1432</td>\n",
       "      <td>0.0000</td>\n",
       "      <td>-0.0394</td>\n",
       "      <td>Consumer Defensive</td>\n",
       "      <td>10.809451</td>\n",
       "      <td>1</td>\n",
       "    </tr>\n",
       "    <tr>\n",
       "      <th>1</th>\n",
       "      <td>VIPS</td>\n",
       "      <td>6.193685e+09</td>\n",
       "      <td>0.6587</td>\n",
       "      <td>4.669038e+09</td>\n",
       "      <td>1.524648e+09</td>\n",
       "      <td>1.658481e+08</td>\n",
       "      <td>5.223879e+08</td>\n",
       "      <td>1.205660e+09</td>\n",
       "      <td>3.189877e+08</td>\n",
       "      <td>1.321245e+07</td>\n",
       "      <td>...</td>\n",
       "      <td>28.6759</td>\n",
       "      <td>0.2144</td>\n",
       "      <td>0.1279</td>\n",
       "      <td>0.2946</td>\n",
       "      <td>0.0281</td>\n",
       "      <td>0.5309</td>\n",
       "      <td>0.5179</td>\n",
       "      <td>Consumer Defensive</td>\n",
       "      <td>-21.637010</td>\n",
       "      <td>0</td>\n",
       "    </tr>\n",
       "    <tr>\n",
       "      <th>2</th>\n",
       "      <td>KR</td>\n",
       "      <td>1.084650e+11</td>\n",
       "      <td>0.1026</td>\n",
       "      <td>8.551200e+10</td>\n",
       "      <td>2.295300e+10</td>\n",
       "      <td>0.000000e+00</td>\n",
       "      <td>1.716100e+10</td>\n",
       "      <td>1.981600e+10</td>\n",
       "      <td>3.137000e+09</td>\n",
       "      <td>4.880000e+08</td>\n",
       "      <td>...</td>\n",
       "      <td>0.1344</td>\n",
       "      <td>0.0065</td>\n",
       "      <td>0.0415</td>\n",
       "      <td>0.0535</td>\n",
       "      <td>0.0254</td>\n",
       "      <td>0.0000</td>\n",
       "      <td>0.1293</td>\n",
       "      <td>Consumer Defensive</td>\n",
       "      <td>-15.036503</td>\n",
       "      <td>0</td>\n",
       "    </tr>\n",
       "    <tr>\n",
       "      <th>3</th>\n",
       "      <td>RAD</td>\n",
       "      <td>2.652838e+10</td>\n",
       "      <td>0.0393</td>\n",
       "      <td>1.895164e+10</td>\n",
       "      <td>7.576732e+09</td>\n",
       "      <td>0.000000e+00</td>\n",
       "      <td>6.695642e+09</td>\n",
       "      <td>6.733788e+09</td>\n",
       "      <td>8.429440e+08</td>\n",
       "      <td>3.976120e+08</td>\n",
       "      <td>...</td>\n",
       "      <td>0.0336</td>\n",
       "      <td>-0.0371</td>\n",
       "      <td>0.2639</td>\n",
       "      <td>1.0266</td>\n",
       "      <td>-0.0344</td>\n",
       "      <td>0.0000</td>\n",
       "      <td>0.0205</td>\n",
       "      <td>Consumer Defensive</td>\n",
       "      <td>4.303799</td>\n",
       "      <td>1</td>\n",
       "    </tr>\n",
       "    <tr>\n",
       "      <th>4</th>\n",
       "      <td>GIS</td>\n",
       "      <td>1.763030e+10</td>\n",
       "      <td>-0.0156</td>\n",
       "      <td>1.168110e+10</td>\n",
       "      <td>5.949200e+09</td>\n",
       "      <td>0.000000e+00</td>\n",
       "      <td>3.328000e+09</td>\n",
       "      <td>3.871900e+09</td>\n",
       "      <td>2.077300e+09</td>\n",
       "      <td>3.154000e+08</td>\n",
       "      <td>...</td>\n",
       "      <td>-0.0653</td>\n",
       "      <td>-0.0119</td>\n",
       "      <td>-0.0568</td>\n",
       "      <td>-0.2118</td>\n",
       "      <td>0.0462</td>\n",
       "      <td>0.0000</td>\n",
       "      <td>-0.0421</td>\n",
       "      <td>Consumer Defensive</td>\n",
       "      <td>10.693172</td>\n",
       "      <td>1</td>\n",
       "    </tr>\n",
       "  </tbody>\n",
       "</table>\n",
       "<p>5 rows × 225 columns</p>\n",
       "</div>"
      ],
      "text/plain": [
       "  Unnamed: 0       Revenue  Revenue Growth  Cost of Revenue  Gross Profit  \\\n",
       "0         PG  7.074900e+10         -0.0491     3.705600e+10  3.369300e+10   \n",
       "1       VIPS  6.193685e+09          0.6587     4.669038e+09  1.524648e+09   \n",
       "2         KR  1.084650e+11          0.1026     8.551200e+10  2.295300e+10   \n",
       "3        RAD  2.652838e+10          0.0393     1.895164e+10  7.576732e+09   \n",
       "4        GIS  1.763030e+10         -0.0156     1.168110e+10  5.949200e+09   \n",
       "\n",
       "   R&D Expenses  SG&A Expense  Operating Expenses  Operating Income  \\\n",
       "0  0.000000e+00  2.061600e+10        2.264400e+10      1.104900e+10   \n",
       "1  1.658481e+08  5.223879e+08        1.205660e+09      3.189877e+08   \n",
       "2  0.000000e+00  1.716100e+10        1.981600e+10      3.137000e+09   \n",
       "3  0.000000e+00  6.695642e+09        6.733788e+09      8.429440e+08   \n",
       "4  0.000000e+00  3.328000e+09        3.871900e+09      2.077300e+09   \n",
       "\n",
       "   Interest Expense  ...  Receivables growth  Inventory Growth  Asset Growth  \\\n",
       "0      6.260000e+08  ...             -0.2847           -0.2634       -0.1024   \n",
       "1      1.321245e+07  ...             28.6759            0.2144        0.1279   \n",
       "2      4.880000e+08  ...              0.1344            0.0065        0.0415   \n",
       "3      3.976120e+08  ...              0.0336           -0.0371        0.2639   \n",
       "4      3.154000e+08  ...             -0.0653           -0.0119       -0.0568   \n",
       "\n",
       "   Book Value per Share Growth  Debt Growth  R&D Expense Growth  \\\n",
       "0                      -0.1013      -0.1432              0.0000   \n",
       "1                       0.2946       0.0281              0.5309   \n",
       "2                       0.0535       0.0254              0.0000   \n",
       "3                       1.0266      -0.0344              0.0000   \n",
       "4                      -0.2118       0.0462              0.0000   \n",
       "\n",
       "   SG&A Expenses Growth              Sector  2016 PRICE VAR [%]  Class  \n",
       "0               -0.0394  Consumer Defensive           10.809451      1  \n",
       "1                0.5179  Consumer Defensive          -21.637010      0  \n",
       "2                0.1293  Consumer Defensive          -15.036503      0  \n",
       "3                0.0205  Consumer Defensive            4.303799      1  \n",
       "4               -0.0421  Consumer Defensive           10.693172      1  \n",
       "\n",
       "[5 rows x 225 columns]"
      ]
     },
     "execution_count": 2,
     "metadata": {},
     "output_type": "execute_result"
    }
   ],
   "source": [
    "df = pd.read_csv('../csv_files/2015_Financial_Data.csv')\n",
    "df.head()"
   ]
  },
  {
   "cell_type": "code",
   "execution_count": 3,
   "metadata": {
    "ExecuteTime": {
     "end_time": "2021-04-07T17:49:41.150186Z",
     "start_time": "2021-04-07T17:49:41.139608Z"
    }
   },
   "outputs": [
    {
     "name": "stdout",
     "output_type": "stream",
     "text": [
      "<class 'pandas.core.frame.DataFrame'>\n",
      "RangeIndex: 4120 entries, 0 to 4119\n",
      "Columns: 225 entries, Unnamed: 0 to Class\n",
      "dtypes: float64(222), int64(1), object(2)\n",
      "memory usage: 7.1+ MB\n"
     ]
    }
   ],
   "source": [
    "df.info()\n"
   ]
  },
  {
   "cell_type": "code",
   "execution_count": 4,
   "metadata": {
    "ExecuteTime": {
     "end_time": "2021-04-07T17:49:41.873947Z",
     "start_time": "2021-04-07T17:49:41.864833Z"
    }
   },
   "outputs": [],
   "source": [
    "data = df[df['Class'] == 1]"
   ]
  },
  {
   "cell_type": "code",
   "execution_count": 5,
   "metadata": {
    "ExecuteTime": {
     "end_time": "2021-04-07T17:49:42.487329Z",
     "start_time": "2021-04-07T17:49:42.456875Z"
    }
   },
   "outputs": [
    {
     "data": {
      "text/html": [
       "<div>\n",
       "<style scoped>\n",
       "    .dataframe tbody tr th:only-of-type {\n",
       "        vertical-align: middle;\n",
       "    }\n",
       "\n",
       "    .dataframe tbody tr th {\n",
       "        vertical-align: top;\n",
       "    }\n",
       "\n",
       "    .dataframe thead th {\n",
       "        text-align: right;\n",
       "    }\n",
       "</style>\n",
       "<table border=\"1\" class=\"dataframe\">\n",
       "  <thead>\n",
       "    <tr style=\"text-align: right;\">\n",
       "      <th></th>\n",
       "      <th>Unnamed: 0</th>\n",
       "      <th>Revenue</th>\n",
       "      <th>Revenue Growth</th>\n",
       "      <th>Cost of Revenue</th>\n",
       "      <th>Gross Profit</th>\n",
       "      <th>R&amp;D Expenses</th>\n",
       "      <th>SG&amp;A Expense</th>\n",
       "      <th>Operating Expenses</th>\n",
       "      <th>Operating Income</th>\n",
       "      <th>Interest Expense</th>\n",
       "      <th>...</th>\n",
       "      <th>Receivables growth</th>\n",
       "      <th>Inventory Growth</th>\n",
       "      <th>Asset Growth</th>\n",
       "      <th>Book Value per Share Growth</th>\n",
       "      <th>Debt Growth</th>\n",
       "      <th>R&amp;D Expense Growth</th>\n",
       "      <th>SG&amp;A Expenses Growth</th>\n",
       "      <th>Sector</th>\n",
       "      <th>2016 PRICE VAR [%]</th>\n",
       "      <th>Class</th>\n",
       "    </tr>\n",
       "  </thead>\n",
       "  <tbody>\n",
       "    <tr>\n",
       "      <th>0</th>\n",
       "      <td>PG</td>\n",
       "      <td>7.074900e+10</td>\n",
       "      <td>-0.0491</td>\n",
       "      <td>3.705600e+10</td>\n",
       "      <td>3.369300e+10</td>\n",
       "      <td>0.0</td>\n",
       "      <td>2.061600e+10</td>\n",
       "      <td>2.264400e+10</td>\n",
       "      <td>1.104900e+10</td>\n",
       "      <td>6.260000e+08</td>\n",
       "      <td>...</td>\n",
       "      <td>-0.2847</td>\n",
       "      <td>-0.2634</td>\n",
       "      <td>-0.1024</td>\n",
       "      <td>-0.1013</td>\n",
       "      <td>-0.1432</td>\n",
       "      <td>0.0</td>\n",
       "      <td>-0.0394</td>\n",
       "      <td>Consumer Defensive</td>\n",
       "      <td>10.809451</td>\n",
       "      <td>1</td>\n",
       "    </tr>\n",
       "    <tr>\n",
       "      <th>3</th>\n",
       "      <td>RAD</td>\n",
       "      <td>2.652838e+10</td>\n",
       "      <td>0.0393</td>\n",
       "      <td>1.895164e+10</td>\n",
       "      <td>7.576732e+09</td>\n",
       "      <td>0.0</td>\n",
       "      <td>6.695642e+09</td>\n",
       "      <td>6.733788e+09</td>\n",
       "      <td>8.429440e+08</td>\n",
       "      <td>3.976120e+08</td>\n",
       "      <td>...</td>\n",
       "      <td>0.0336</td>\n",
       "      <td>-0.0371</td>\n",
       "      <td>0.2639</td>\n",
       "      <td>1.0266</td>\n",
       "      <td>-0.0344</td>\n",
       "      <td>0.0</td>\n",
       "      <td>0.0205</td>\n",
       "      <td>Consumer Defensive</td>\n",
       "      <td>4.303799</td>\n",
       "      <td>1</td>\n",
       "    </tr>\n",
       "    <tr>\n",
       "      <th>4</th>\n",
       "      <td>GIS</td>\n",
       "      <td>1.763030e+10</td>\n",
       "      <td>-0.0156</td>\n",
       "      <td>1.168110e+10</td>\n",
       "      <td>5.949200e+09</td>\n",
       "      <td>0.0</td>\n",
       "      <td>3.328000e+09</td>\n",
       "      <td>3.871900e+09</td>\n",
       "      <td>2.077300e+09</td>\n",
       "      <td>3.154000e+08</td>\n",
       "      <td>...</td>\n",
       "      <td>-0.0653</td>\n",
       "      <td>-0.0119</td>\n",
       "      <td>-0.0568</td>\n",
       "      <td>-0.2118</td>\n",
       "      <td>0.0462</td>\n",
       "      <td>0.0</td>\n",
       "      <td>-0.0421</td>\n",
       "      <td>Consumer Defensive</td>\n",
       "      <td>10.693172</td>\n",
       "      <td>1</td>\n",
       "    </tr>\n",
       "    <tr>\n",
       "      <th>5</th>\n",
       "      <td>PM</td>\n",
       "      <td>7.390800e+10</td>\n",
       "      <td>-0.0774</td>\n",
       "      <td>5.647900e+10</td>\n",
       "      <td>1.742900e+10</td>\n",
       "      <td>0.0</td>\n",
       "      <td>6.656000e+09</td>\n",
       "      <td>6.806000e+09</td>\n",
       "      <td>1.062300e+10</td>\n",
       "      <td>1.008000e+09</td>\n",
       "      <td>...</td>\n",
       "      <td>-0.3062</td>\n",
       "      <td>-0.0139</td>\n",
       "      <td>-0.0350</td>\n",
       "      <td>-0.0517</td>\n",
       "      <td>-0.0331</td>\n",
       "      <td>0.0</td>\n",
       "      <td>-0.0493</td>\n",
       "      <td>Consumer Defensive</td>\n",
       "      <td>10.865590</td>\n",
       "      <td>1</td>\n",
       "    </tr>\n",
       "    <tr>\n",
       "      <th>6</th>\n",
       "      <td>KO</td>\n",
       "      <td>4.429400e+10</td>\n",
       "      <td>-0.0370</td>\n",
       "      <td>1.748200e+10</td>\n",
       "      <td>2.681200e+10</td>\n",
       "      <td>0.0</td>\n",
       "      <td>1.642700e+10</td>\n",
       "      <td>1.808400e+10</td>\n",
       "      <td>8.728000e+09</td>\n",
       "      <td>8.560000e+08</td>\n",
       "      <td>...</td>\n",
       "      <td>-0.1176</td>\n",
       "      <td>-0.0639</td>\n",
       "      <td>-0.0220</td>\n",
       "      <td>-0.1503</td>\n",
       "      <td>0.0568</td>\n",
       "      <td>0.0</td>\n",
       "      <td>-0.0459</td>\n",
       "      <td>Consumer Defensive</td>\n",
       "      <td>0.958959</td>\n",
       "      <td>1</td>\n",
       "    </tr>\n",
       "  </tbody>\n",
       "</table>\n",
       "<p>5 rows × 225 columns</p>\n",
       "</div>"
      ],
      "text/plain": [
       "  Unnamed: 0       Revenue  Revenue Growth  Cost of Revenue  Gross Profit  \\\n",
       "0         PG  7.074900e+10         -0.0491     3.705600e+10  3.369300e+10   \n",
       "3        RAD  2.652838e+10          0.0393     1.895164e+10  7.576732e+09   \n",
       "4        GIS  1.763030e+10         -0.0156     1.168110e+10  5.949200e+09   \n",
       "5         PM  7.390800e+10         -0.0774     5.647900e+10  1.742900e+10   \n",
       "6         KO  4.429400e+10         -0.0370     1.748200e+10  2.681200e+10   \n",
       "\n",
       "   R&D Expenses  SG&A Expense  Operating Expenses  Operating Income  \\\n",
       "0           0.0  2.061600e+10        2.264400e+10      1.104900e+10   \n",
       "3           0.0  6.695642e+09        6.733788e+09      8.429440e+08   \n",
       "4           0.0  3.328000e+09        3.871900e+09      2.077300e+09   \n",
       "5           0.0  6.656000e+09        6.806000e+09      1.062300e+10   \n",
       "6           0.0  1.642700e+10        1.808400e+10      8.728000e+09   \n",
       "\n",
       "   Interest Expense  ...  Receivables growth  Inventory Growth  Asset Growth  \\\n",
       "0      6.260000e+08  ...             -0.2847           -0.2634       -0.1024   \n",
       "3      3.976120e+08  ...              0.0336           -0.0371        0.2639   \n",
       "4      3.154000e+08  ...             -0.0653           -0.0119       -0.0568   \n",
       "5      1.008000e+09  ...             -0.3062           -0.0139       -0.0350   \n",
       "6      8.560000e+08  ...             -0.1176           -0.0639       -0.0220   \n",
       "\n",
       "   Book Value per Share Growth  Debt Growth  R&D Expense Growth  \\\n",
       "0                      -0.1013      -0.1432                 0.0   \n",
       "3                       1.0266      -0.0344                 0.0   \n",
       "4                      -0.2118       0.0462                 0.0   \n",
       "5                      -0.0517      -0.0331                 0.0   \n",
       "6                      -0.1503       0.0568                 0.0   \n",
       "\n",
       "   SG&A Expenses Growth              Sector  2016 PRICE VAR [%]  Class  \n",
       "0               -0.0394  Consumer Defensive           10.809451      1  \n",
       "3                0.0205  Consumer Defensive            4.303799      1  \n",
       "4               -0.0421  Consumer Defensive           10.693172      1  \n",
       "5               -0.0493  Consumer Defensive           10.865590      1  \n",
       "6               -0.0459  Consumer Defensive            0.958959      1  \n",
       "\n",
       "[5 rows x 225 columns]"
      ]
     },
     "execution_count": 5,
     "metadata": {},
     "output_type": "execute_result"
    }
   ],
   "source": [
    "data.head()"
   ]
  },
  {
   "cell_type": "code",
   "execution_count": 6,
   "metadata": {
    "ExecuteTime": {
     "end_time": "2021-04-07T17:49:43.059722Z",
     "start_time": "2021-04-07T17:49:43.045738Z"
    }
   },
   "outputs": [
    {
     "name": "stdout",
     "output_type": "stream",
     "text": [
      "<class 'pandas.core.frame.DataFrame'>\n",
      "Int64Index: 2891 entries, 0 to 4119\n",
      "Columns: 225 entries, Unnamed: 0 to Class\n",
      "dtypes: float64(222), int64(1), object(2)\n",
      "memory usage: 5.0+ MB\n"
     ]
    }
   ],
   "source": [
    "data.info()"
   ]
  },
  {
   "cell_type": "code",
   "execution_count": 7,
   "metadata": {
    "ExecuteTime": {
     "end_time": "2021-04-07T17:49:44.703679Z",
     "start_time": "2021-04-07T17:49:44.695773Z"
    }
   },
   "outputs": [
    {
     "data": {
      "text/plain": [
       "1    2891\n",
       "Name: Class, dtype: int64"
      ]
     },
     "execution_count": 7,
     "metadata": {},
     "output_type": "execute_result"
    }
   ],
   "source": [
    "data.Class.value_counts()"
   ]
  },
  {
   "cell_type": "code",
   "execution_count": 8,
   "metadata": {
    "ExecuteTime": {
     "end_time": "2021-04-07T17:49:58.612397Z",
     "start_time": "2021-04-07T17:49:57.977091Z"
    }
   },
   "outputs": [],
   "source": [
    "data.to_csv('2015_clean')"
   ]
  },
  {
   "cell_type": "code",
   "execution_count": null,
   "metadata": {},
   "outputs": [],
   "source": []
  }
 ],
 "metadata": {
  "kernelspec": {
   "display_name": "Python 3",
   "language": "python",
   "name": "python3"
  },
  "language_info": {
   "codemirror_mode": {
    "name": "ipython",
    "version": 3
   },
   "file_extension": ".py",
   "mimetype": "text/x-python",
   "name": "python",
   "nbconvert_exporter": "python",
   "pygments_lexer": "ipython3",
   "version": "3.6.9"
  },
  "toc": {
   "base_numbering": 1,
   "nav_menu": {},
   "number_sections": true,
   "sideBar": true,
   "skip_h1_title": false,
   "title_cell": "Table of Contents",
   "title_sidebar": "Contents",
   "toc_cell": false,
   "toc_position": {},
   "toc_section_display": true,
   "toc_window_display": false
  },
  "varInspector": {
   "cols": {
    "lenName": 16,
    "lenType": 16,
    "lenVar": 40
   },
   "kernels_config": {
    "python": {
     "delete_cmd_postfix": "",
     "delete_cmd_prefix": "del ",
     "library": "var_list.py",
     "varRefreshCmd": "print(var_dic_list())"
    },
    "r": {
     "delete_cmd_postfix": ") ",
     "delete_cmd_prefix": "rm(",
     "library": "var_list.r",
     "varRefreshCmd": "cat(var_dic_list()) "
    }
   },
   "types_to_exclude": [
    "module",
    "function",
    "builtin_function_or_method",
    "instance",
    "_Feature"
   ],
   "window_display": false
  }
 },
 "nbformat": 4,
 "nbformat_minor": 4
}
