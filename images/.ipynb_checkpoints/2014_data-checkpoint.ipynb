{
 "cells": [
  {
   "cell_type": "code",
   "execution_count": 11,
   "metadata": {
    "ExecuteTime": {
     "end_time": "2021-04-07T17:40:25.616930Z",
     "start_time": "2021-04-07T17:40:25.612127Z"
    }
   },
   "outputs": [],
   "source": [
    "import pandas as pd\n",
    "import numpy as np\n",
    "import matplotlib.pyplot as plt\n",
    "%matplotlib inline\n",
    "\n",
    "import seaborn as sns\n",
    "\n",
    "import warnings\n",
    "warnings.filterwarnings('ignore')"
   ]
  },
  {
   "cell_type": "code",
   "execution_count": 12,
   "metadata": {
    "ExecuteTime": {
     "end_time": "2021-04-07T17:40:26.151910Z",
     "start_time": "2021-04-07T17:40:26.133759Z"
    }
   },
   "outputs": [
    {
     "ename": "FileNotFoundError",
     "evalue": "[Errno 2] File b'csv_files/2014_Financial_Data.csv' does not exist: b'csv_files/2014_Financial_Data.csv'",
     "output_type": "error",
     "traceback": [
      "\u001b[0;31m---------------------------------------------------------------------------\u001b[0m",
      "\u001b[0;31mFileNotFoundError\u001b[0m                         Traceback (most recent call last)",
      "\u001b[0;32m<ipython-input-12-bcfdb41b11bf>\u001b[0m in \u001b[0;36m<module>\u001b[0;34m()\u001b[0m\n\u001b[0;32m----> 1\u001b[0;31m \u001b[0mdf\u001b[0m \u001b[0;34m=\u001b[0m \u001b[0mpd\u001b[0m\u001b[0;34m.\u001b[0m\u001b[0mread_csv\u001b[0m\u001b[0;34m(\u001b[0m\u001b[0;34m'csv_files/2014_Financial_Data.csv'\u001b[0m\u001b[0;34m)\u001b[0m\u001b[0;34m\u001b[0m\u001b[0;34m\u001b[0m\u001b[0m\n\u001b[0m\u001b[1;32m      2\u001b[0m \u001b[0mdf\u001b[0m\u001b[0;34m.\u001b[0m\u001b[0mhead\u001b[0m\u001b[0;34m(\u001b[0m\u001b[0;34m)\u001b[0m\u001b[0;34m\u001b[0m\u001b[0;34m\u001b[0m\u001b[0m\n",
      "\u001b[0;32m/Users/andrewperry/opt/anaconda3/envs/learn-env/lib/python3.6/site-packages/pandas/io/parsers.py\u001b[0m in \u001b[0;36mparser_f\u001b[0;34m(filepath_or_buffer, sep, delimiter, header, names, index_col, usecols, squeeze, prefix, mangle_dupe_cols, dtype, engine, converters, true_values, false_values, skipinitialspace, skiprows, skipfooter, nrows, na_values, keep_default_na, na_filter, verbose, skip_blank_lines, parse_dates, infer_datetime_format, keep_date_col, date_parser, dayfirst, cache_dates, iterator, chunksize, compression, thousands, decimal, lineterminator, quotechar, quoting, doublequote, escapechar, comment, encoding, dialect, error_bad_lines, warn_bad_lines, delim_whitespace, low_memory, memory_map, float_precision)\u001b[0m\n\u001b[1;32m    683\u001b[0m         )\n\u001b[1;32m    684\u001b[0m \u001b[0;34m\u001b[0m\u001b[0m\n\u001b[0;32m--> 685\u001b[0;31m         \u001b[0;32mreturn\u001b[0m \u001b[0m_read\u001b[0m\u001b[0;34m(\u001b[0m\u001b[0mfilepath_or_buffer\u001b[0m\u001b[0;34m,\u001b[0m \u001b[0mkwds\u001b[0m\u001b[0;34m)\u001b[0m\u001b[0;34m\u001b[0m\u001b[0;34m\u001b[0m\u001b[0m\n\u001b[0m\u001b[1;32m    686\u001b[0m \u001b[0;34m\u001b[0m\u001b[0m\n\u001b[1;32m    687\u001b[0m     \u001b[0mparser_f\u001b[0m\u001b[0;34m.\u001b[0m\u001b[0m__name__\u001b[0m \u001b[0;34m=\u001b[0m \u001b[0mname\u001b[0m\u001b[0;34m\u001b[0m\u001b[0;34m\u001b[0m\u001b[0m\n",
      "\u001b[0;32m/Users/andrewperry/opt/anaconda3/envs/learn-env/lib/python3.6/site-packages/pandas/io/parsers.py\u001b[0m in \u001b[0;36m_read\u001b[0;34m(filepath_or_buffer, kwds)\u001b[0m\n\u001b[1;32m    455\u001b[0m \u001b[0;34m\u001b[0m\u001b[0m\n\u001b[1;32m    456\u001b[0m     \u001b[0;31m# Create the parser.\u001b[0m\u001b[0;34m\u001b[0m\u001b[0;34m\u001b[0m\u001b[0;34m\u001b[0m\u001b[0m\n\u001b[0;32m--> 457\u001b[0;31m     \u001b[0mparser\u001b[0m \u001b[0;34m=\u001b[0m \u001b[0mTextFileReader\u001b[0m\u001b[0;34m(\u001b[0m\u001b[0mfp_or_buf\u001b[0m\u001b[0;34m,\u001b[0m \u001b[0;34m**\u001b[0m\u001b[0mkwds\u001b[0m\u001b[0;34m)\u001b[0m\u001b[0;34m\u001b[0m\u001b[0;34m\u001b[0m\u001b[0m\n\u001b[0m\u001b[1;32m    458\u001b[0m \u001b[0;34m\u001b[0m\u001b[0m\n\u001b[1;32m    459\u001b[0m     \u001b[0;32mif\u001b[0m \u001b[0mchunksize\u001b[0m \u001b[0;32mor\u001b[0m \u001b[0miterator\u001b[0m\u001b[0;34m:\u001b[0m\u001b[0;34m\u001b[0m\u001b[0;34m\u001b[0m\u001b[0m\n",
      "\u001b[0;32m/Users/andrewperry/opt/anaconda3/envs/learn-env/lib/python3.6/site-packages/pandas/io/parsers.py\u001b[0m in \u001b[0;36m__init__\u001b[0;34m(self, f, engine, **kwds)\u001b[0m\n\u001b[1;32m    893\u001b[0m             \u001b[0mself\u001b[0m\u001b[0;34m.\u001b[0m\u001b[0moptions\u001b[0m\u001b[0;34m[\u001b[0m\u001b[0;34m\"has_index_names\"\u001b[0m\u001b[0;34m]\u001b[0m \u001b[0;34m=\u001b[0m \u001b[0mkwds\u001b[0m\u001b[0;34m[\u001b[0m\u001b[0;34m\"has_index_names\"\u001b[0m\u001b[0;34m]\u001b[0m\u001b[0;34m\u001b[0m\u001b[0;34m\u001b[0m\u001b[0m\n\u001b[1;32m    894\u001b[0m \u001b[0;34m\u001b[0m\u001b[0m\n\u001b[0;32m--> 895\u001b[0;31m         \u001b[0mself\u001b[0m\u001b[0;34m.\u001b[0m\u001b[0m_make_engine\u001b[0m\u001b[0;34m(\u001b[0m\u001b[0mself\u001b[0m\u001b[0;34m.\u001b[0m\u001b[0mengine\u001b[0m\u001b[0;34m)\u001b[0m\u001b[0;34m\u001b[0m\u001b[0;34m\u001b[0m\u001b[0m\n\u001b[0m\u001b[1;32m    896\u001b[0m \u001b[0;34m\u001b[0m\u001b[0m\n\u001b[1;32m    897\u001b[0m     \u001b[0;32mdef\u001b[0m \u001b[0mclose\u001b[0m\u001b[0;34m(\u001b[0m\u001b[0mself\u001b[0m\u001b[0;34m)\u001b[0m\u001b[0;34m:\u001b[0m\u001b[0;34m\u001b[0m\u001b[0;34m\u001b[0m\u001b[0m\n",
      "\u001b[0;32m/Users/andrewperry/opt/anaconda3/envs/learn-env/lib/python3.6/site-packages/pandas/io/parsers.py\u001b[0m in \u001b[0;36m_make_engine\u001b[0;34m(self, engine)\u001b[0m\n\u001b[1;32m   1133\u001b[0m     \u001b[0;32mdef\u001b[0m \u001b[0m_make_engine\u001b[0m\u001b[0;34m(\u001b[0m\u001b[0mself\u001b[0m\u001b[0;34m,\u001b[0m \u001b[0mengine\u001b[0m\u001b[0;34m=\u001b[0m\u001b[0;34m\"c\"\u001b[0m\u001b[0;34m)\u001b[0m\u001b[0;34m:\u001b[0m\u001b[0;34m\u001b[0m\u001b[0;34m\u001b[0m\u001b[0m\n\u001b[1;32m   1134\u001b[0m         \u001b[0;32mif\u001b[0m \u001b[0mengine\u001b[0m \u001b[0;34m==\u001b[0m \u001b[0;34m\"c\"\u001b[0m\u001b[0;34m:\u001b[0m\u001b[0;34m\u001b[0m\u001b[0;34m\u001b[0m\u001b[0m\n\u001b[0;32m-> 1135\u001b[0;31m             \u001b[0mself\u001b[0m\u001b[0;34m.\u001b[0m\u001b[0m_engine\u001b[0m \u001b[0;34m=\u001b[0m \u001b[0mCParserWrapper\u001b[0m\u001b[0;34m(\u001b[0m\u001b[0mself\u001b[0m\u001b[0;34m.\u001b[0m\u001b[0mf\u001b[0m\u001b[0;34m,\u001b[0m \u001b[0;34m**\u001b[0m\u001b[0mself\u001b[0m\u001b[0;34m.\u001b[0m\u001b[0moptions\u001b[0m\u001b[0;34m)\u001b[0m\u001b[0;34m\u001b[0m\u001b[0;34m\u001b[0m\u001b[0m\n\u001b[0m\u001b[1;32m   1136\u001b[0m         \u001b[0;32melse\u001b[0m\u001b[0;34m:\u001b[0m\u001b[0;34m\u001b[0m\u001b[0;34m\u001b[0m\u001b[0m\n\u001b[1;32m   1137\u001b[0m             \u001b[0;32mif\u001b[0m \u001b[0mengine\u001b[0m \u001b[0;34m==\u001b[0m \u001b[0;34m\"python\"\u001b[0m\u001b[0;34m:\u001b[0m\u001b[0;34m\u001b[0m\u001b[0;34m\u001b[0m\u001b[0m\n",
      "\u001b[0;32m/Users/andrewperry/opt/anaconda3/envs/learn-env/lib/python3.6/site-packages/pandas/io/parsers.py\u001b[0m in \u001b[0;36m__init__\u001b[0;34m(self, src, **kwds)\u001b[0m\n\u001b[1;32m   1915\u001b[0m         \u001b[0mkwds\u001b[0m\u001b[0;34m[\u001b[0m\u001b[0;34m\"usecols\"\u001b[0m\u001b[0;34m]\u001b[0m \u001b[0;34m=\u001b[0m \u001b[0mself\u001b[0m\u001b[0;34m.\u001b[0m\u001b[0musecols\u001b[0m\u001b[0;34m\u001b[0m\u001b[0;34m\u001b[0m\u001b[0m\n\u001b[1;32m   1916\u001b[0m \u001b[0;34m\u001b[0m\u001b[0m\n\u001b[0;32m-> 1917\u001b[0;31m         \u001b[0mself\u001b[0m\u001b[0;34m.\u001b[0m\u001b[0m_reader\u001b[0m \u001b[0;34m=\u001b[0m \u001b[0mparsers\u001b[0m\u001b[0;34m.\u001b[0m\u001b[0mTextReader\u001b[0m\u001b[0;34m(\u001b[0m\u001b[0msrc\u001b[0m\u001b[0;34m,\u001b[0m \u001b[0;34m**\u001b[0m\u001b[0mkwds\u001b[0m\u001b[0;34m)\u001b[0m\u001b[0;34m\u001b[0m\u001b[0;34m\u001b[0m\u001b[0m\n\u001b[0m\u001b[1;32m   1918\u001b[0m         \u001b[0mself\u001b[0m\u001b[0;34m.\u001b[0m\u001b[0munnamed_cols\u001b[0m \u001b[0;34m=\u001b[0m \u001b[0mself\u001b[0m\u001b[0;34m.\u001b[0m\u001b[0m_reader\u001b[0m\u001b[0;34m.\u001b[0m\u001b[0munnamed_cols\u001b[0m\u001b[0;34m\u001b[0m\u001b[0;34m\u001b[0m\u001b[0m\n\u001b[1;32m   1919\u001b[0m \u001b[0;34m\u001b[0m\u001b[0m\n",
      "\u001b[0;32mpandas/_libs/parsers.pyx\u001b[0m in \u001b[0;36mpandas._libs.parsers.TextReader.__cinit__\u001b[0;34m()\u001b[0m\n",
      "\u001b[0;32mpandas/_libs/parsers.pyx\u001b[0m in \u001b[0;36mpandas._libs.parsers.TextReader._setup_parser_source\u001b[0;34m()\u001b[0m\n",
      "\u001b[0;31mFileNotFoundError\u001b[0m: [Errno 2] File b'csv_files/2014_Financial_Data.csv' does not exist: b'csv_files/2014_Financial_Data.csv'"
     ]
    }
   ],
   "source": [
    "df = pd.read_csv('csv_files/2014_Financial_Data.csv')\n",
    "df.head()"
   ]
  },
  {
   "cell_type": "code",
   "execution_count": 4,
   "metadata": {
    "ExecuteTime": {
     "end_time": "2021-04-07T17:39:29.221593Z",
     "start_time": "2021-04-07T17:39:29.211775Z"
    }
   },
   "outputs": [
    {
     "ename": "NameError",
     "evalue": "name 'df' is not defined",
     "output_type": "error",
     "traceback": [
      "\u001b[0;31m---------------------------------------------------------------------------\u001b[0m",
      "\u001b[0;31mNameError\u001b[0m                                 Traceback (most recent call last)",
      "\u001b[0;32m<ipython-input-4-a74c58233b9e>\u001b[0m in \u001b[0;36m<module>\u001b[0;34m()\u001b[0m\n\u001b[0;32m----> 1\u001b[0;31m \u001b[0mdf\u001b[0m\u001b[0;34m.\u001b[0m\u001b[0minfo\u001b[0m\u001b[0;34m(\u001b[0m\u001b[0;34m)\u001b[0m\u001b[0;34m\u001b[0m\u001b[0;34m\u001b[0m\u001b[0m\n\u001b[0m",
      "\u001b[0;31mNameError\u001b[0m: name 'df' is not defined"
     ]
    }
   ],
   "source": [
    "df.info()\n"
   ]
  },
  {
   "cell_type": "code",
   "execution_count": 8,
   "metadata": {
    "ExecuteTime": {
     "end_time": "2021-04-05T00:08:26.564750Z",
     "start_time": "2021-04-05T00:08:26.060866Z"
    }
   },
   "outputs": [
    {
     "data": {
      "text/html": [
       "<div>\n",
       "<style scoped>\n",
       "    .dataframe tbody tr th:only-of-type {\n",
       "        vertical-align: middle;\n",
       "    }\n",
       "\n",
       "    .dataframe tbody tr th {\n",
       "        vertical-align: top;\n",
       "    }\n",
       "\n",
       "    .dataframe thead th {\n",
       "        text-align: right;\n",
       "    }\n",
       "</style>\n",
       "<table border=\"1\" class=\"dataframe\">\n",
       "  <thead>\n",
       "    <tr style=\"text-align: right;\">\n",
       "      <th></th>\n",
       "      <th>Revenue</th>\n",
       "      <th>Revenue Growth</th>\n",
       "      <th>Cost of Revenue</th>\n",
       "      <th>Gross Profit</th>\n",
       "      <th>R&amp;D Expenses</th>\n",
       "      <th>SG&amp;A Expense</th>\n",
       "      <th>Operating Expenses</th>\n",
       "      <th>Operating Income</th>\n",
       "      <th>Interest Expense</th>\n",
       "      <th>Earnings before Tax</th>\n",
       "      <th>...</th>\n",
       "      <th>3Y Dividend per Share Growth (per Share)</th>\n",
       "      <th>Receivables growth</th>\n",
       "      <th>Inventory Growth</th>\n",
       "      <th>Asset Growth</th>\n",
       "      <th>Book Value per Share Growth</th>\n",
       "      <th>Debt Growth</th>\n",
       "      <th>R&amp;D Expense Growth</th>\n",
       "      <th>SG&amp;A Expenses Growth</th>\n",
       "      <th>2015 PRICE VAR [%]</th>\n",
       "      <th>Class</th>\n",
       "    </tr>\n",
       "  </thead>\n",
       "  <tbody>\n",
       "    <tr>\n",
       "      <th>count</th>\n",
       "      <td>3.764000e+03</td>\n",
       "      <td>3572.000000</td>\n",
       "      <td>3.734000e+03</td>\n",
       "      <td>3.756000e+03</td>\n",
       "      <td>3.672000e+03</td>\n",
       "      <td>3.749000e+03</td>\n",
       "      <td>3.745000e+03</td>\n",
       "      <td>3.753000e+03</td>\n",
       "      <td>3.745000e+03</td>\n",
       "      <td>3.728000e+03</td>\n",
       "      <td>...</td>\n",
       "      <td>3208.000000</td>\n",
       "      <td>3518.000000</td>\n",
       "      <td>3518.000000</td>\n",
       "      <td>3518.000000</td>\n",
       "      <td>3439.000000</td>\n",
       "      <td>3506.000000</td>\n",
       "      <td>3561.000000</td>\n",
       "      <td>3565.000000</td>\n",
       "      <td>3.808000e+03</td>\n",
       "      <td>3808.000000</td>\n",
       "    </tr>\n",
       "    <tr>\n",
       "      <th>mean</th>\n",
       "      <td>5.879050e+09</td>\n",
       "      <td>12.954244</td>\n",
       "      <td>3.700973e+09</td>\n",
       "      <td>2.188214e+09</td>\n",
       "      <td>9.401830e+07</td>\n",
       "      <td>9.307406e+08</td>\n",
       "      <td>1.438144e+09</td>\n",
       "      <td>6.748248e+08</td>\n",
       "      <td>1.002018e+08</td>\n",
       "      <td>5.725866e+08</td>\n",
       "      <td>...</td>\n",
       "      <td>0.036206</td>\n",
       "      <td>4.445793</td>\n",
       "      <td>0.164692</td>\n",
       "      <td>2.279999</td>\n",
       "      <td>0.813931</td>\n",
       "      <td>1.361780</td>\n",
       "      <td>0.596529</td>\n",
       "      <td>0.382284</td>\n",
       "      <td>9.751560e+02</td>\n",
       "      <td>0.429097</td>\n",
       "    </tr>\n",
       "    <tr>\n",
       "      <th>std</th>\n",
       "      <td>3.901741e+10</td>\n",
       "      <td>705.605473</td>\n",
       "      <td>3.040688e+10</td>\n",
       "      <td>1.159028e+10</td>\n",
       "      <td>6.408912e+08</td>\n",
       "      <td>4.820928e+09</td>\n",
       "      <td>7.305171e+09</td>\n",
       "      <td>3.786291e+09</td>\n",
       "      <td>6.991091e+08</td>\n",
       "      <td>2.793740e+09</td>\n",
       "      <td>...</td>\n",
       "      <td>0.259765</td>\n",
       "      <td>161.135098</td>\n",
       "      <td>2.195115</td>\n",
       "      <td>92.428920</td>\n",
       "      <td>25.630214</td>\n",
       "      <td>18.734301</td>\n",
       "      <td>25.894049</td>\n",
       "      <td>4.696975</td>\n",
       "      <td>4.098461e+04</td>\n",
       "      <td>0.495012</td>\n",
       "    </tr>\n",
       "    <tr>\n",
       "      <th>min</th>\n",
       "      <td>-6.276160e+08</td>\n",
       "      <td>-1.773200</td>\n",
       "      <td>-5.455740e+08</td>\n",
       "      <td>-1.105000e+09</td>\n",
       "      <td>-1.500000e+05</td>\n",
       "      <td>0.000000e+00</td>\n",
       "      <td>-1.088448e+09</td>\n",
       "      <td>-6.786000e+09</td>\n",
       "      <td>-2.250000e+08</td>\n",
       "      <td>-8.878000e+09</td>\n",
       "      <td>...</td>\n",
       "      <td>-1.000000</td>\n",
       "      <td>-1.000000</td>\n",
       "      <td>-1.000000</td>\n",
       "      <td>-0.979600</td>\n",
       "      <td>-230.000000</td>\n",
       "      <td>-1.051000</td>\n",
       "      <td>-1.043700</td>\n",
       "      <td>-1.000000</td>\n",
       "      <td>-1.003972e+02</td>\n",
       "      <td>0.000000</td>\n",
       "    </tr>\n",
       "    <tr>\n",
       "      <th>25%</th>\n",
       "      <td>5.788880e+07</td>\n",
       "      <td>-0.002350</td>\n",
       "      <td>3.135714e+06</td>\n",
       "      <td>3.092900e+07</td>\n",
       "      <td>0.000000e+00</td>\n",
       "      <td>1.548900e+07</td>\n",
       "      <td>3.106600e+07</td>\n",
       "      <td>-1.308000e+06</td>\n",
       "      <td>0.000000e+00</td>\n",
       "      <td>-3.732902e+06</td>\n",
       "      <td>...</td>\n",
       "      <td>0.000000</td>\n",
       "      <td>-0.045800</td>\n",
       "      <td>0.000000</td>\n",
       "      <td>-0.015400</td>\n",
       "      <td>-0.084550</td>\n",
       "      <td>-0.048200</td>\n",
       "      <td>0.000000</td>\n",
       "      <td>-0.003900</td>\n",
       "      <td>-2.857143e+01</td>\n",
       "      <td>0.000000</td>\n",
       "    </tr>\n",
       "    <tr>\n",
       "      <th>50%</th>\n",
       "      <td>4.349010e+08</td>\n",
       "      <td>0.061850</td>\n",
       "      <td>1.414420e+08</td>\n",
       "      <td>1.908760e+08</td>\n",
       "      <td>0.000000e+00</td>\n",
       "      <td>7.381800e+07</td>\n",
       "      <td>1.386610e+08</td>\n",
       "      <td>4.104400e+07</td>\n",
       "      <td>2.563000e+06</td>\n",
       "      <td>2.842700e+07</td>\n",
       "      <td>...</td>\n",
       "      <td>0.000000</td>\n",
       "      <td>0.014250</td>\n",
       "      <td>0.000000</td>\n",
       "      <td>0.062200</td>\n",
       "      <td>0.037100</td>\n",
       "      <td>0.000000</td>\n",
       "      <td>0.000000</td>\n",
       "      <td>0.068800</td>\n",
       "      <td>-5.281842e+00</td>\n",
       "      <td>0.000000</td>\n",
       "    </tr>\n",
       "    <tr>\n",
       "      <th>75%</th>\n",
       "      <td>2.393625e+09</td>\n",
       "      <td>0.188875</td>\n",
       "      <td>1.199844e+09</td>\n",
       "      <td>8.922534e+08</td>\n",
       "      <td>9.911000e+06</td>\n",
       "      <td>3.510000e+08</td>\n",
       "      <td>5.885100e+08</td>\n",
       "      <td>2.712980e+08</td>\n",
       "      <td>4.300000e+07</td>\n",
       "      <td>2.193835e+08</td>\n",
       "      <td>...</td>\n",
       "      <td>0.044000</td>\n",
       "      <td>0.205475</td>\n",
       "      <td>0.063850</td>\n",
       "      <td>0.217100</td>\n",
       "      <td>0.141900</td>\n",
       "      <td>0.210300</td>\n",
       "      <td>0.004700</td>\n",
       "      <td>0.220500</td>\n",
       "      <td>1.331484e+01</td>\n",
       "      <td>1.000000</td>\n",
       "    </tr>\n",
       "    <tr>\n",
       "      <th>max</th>\n",
       "      <td>1.824698e+12</td>\n",
       "      <td>42138.663900</td>\n",
       "      <td>1.537249e+12</td>\n",
       "      <td>4.621600e+11</td>\n",
       "      <td>1.153700e+10</td>\n",
       "      <td>1.856830e+11</td>\n",
       "      <td>3.056050e+11</td>\n",
       "      <td>1.565540e+11</td>\n",
       "      <td>3.152300e+10</td>\n",
       "      <td>8.720500e+10</td>\n",
       "      <td>...</td>\n",
       "      <td>3.605800</td>\n",
       "      <td>9328.200000</td>\n",
       "      <td>76.625000</td>\n",
       "      <td>5468.426400</td>\n",
       "      <td>1360.125000</td>\n",
       "      <td>729.576600</td>\n",
       "      <td>1542.611000</td>\n",
       "      <td>225.690000</td>\n",
       "      <td>2.418601e+06</td>\n",
       "      <td>1.000000</td>\n",
       "    </tr>\n",
       "  </tbody>\n",
       "</table>\n",
       "<p>8 rows × 223 columns</p>\n",
       "</div>"
      ],
      "text/plain": [
       "            Revenue  Revenue Growth  Cost of Revenue  Gross Profit  \\\n",
       "count  3.764000e+03     3572.000000     3.734000e+03  3.756000e+03   \n",
       "mean   5.879050e+09       12.954244     3.700973e+09  2.188214e+09   \n",
       "std    3.901741e+10      705.605473     3.040688e+10  1.159028e+10   \n",
       "min   -6.276160e+08       -1.773200    -5.455740e+08 -1.105000e+09   \n",
       "25%    5.788880e+07       -0.002350     3.135714e+06  3.092900e+07   \n",
       "50%    4.349010e+08        0.061850     1.414420e+08  1.908760e+08   \n",
       "75%    2.393625e+09        0.188875     1.199844e+09  8.922534e+08   \n",
       "max    1.824698e+12    42138.663900     1.537249e+12  4.621600e+11   \n",
       "\n",
       "       R&D Expenses  SG&A Expense  Operating Expenses  Operating Income  \\\n",
       "count  3.672000e+03  3.749000e+03        3.745000e+03      3.753000e+03   \n",
       "mean   9.401830e+07  9.307406e+08        1.438144e+09      6.748248e+08   \n",
       "std    6.408912e+08  4.820928e+09        7.305171e+09      3.786291e+09   \n",
       "min   -1.500000e+05  0.000000e+00       -1.088448e+09     -6.786000e+09   \n",
       "25%    0.000000e+00  1.548900e+07        3.106600e+07     -1.308000e+06   \n",
       "50%    0.000000e+00  7.381800e+07        1.386610e+08      4.104400e+07   \n",
       "75%    9.911000e+06  3.510000e+08        5.885100e+08      2.712980e+08   \n",
       "max    1.153700e+10  1.856830e+11        3.056050e+11      1.565540e+11   \n",
       "\n",
       "       Interest Expense  Earnings before Tax  ...  \\\n",
       "count      3.745000e+03         3.728000e+03  ...   \n",
       "mean       1.002018e+08         5.725866e+08  ...   \n",
       "std        6.991091e+08         2.793740e+09  ...   \n",
       "min       -2.250000e+08        -8.878000e+09  ...   \n",
       "25%        0.000000e+00        -3.732902e+06  ...   \n",
       "50%        2.563000e+06         2.842700e+07  ...   \n",
       "75%        4.300000e+07         2.193835e+08  ...   \n",
       "max        3.152300e+10         8.720500e+10  ...   \n",
       "\n",
       "       3Y Dividend per Share Growth (per Share)  Receivables growth  \\\n",
       "count                               3208.000000         3518.000000   \n",
       "mean                                   0.036206            4.445793   \n",
       "std                                    0.259765          161.135098   \n",
       "min                                   -1.000000           -1.000000   \n",
       "25%                                    0.000000           -0.045800   \n",
       "50%                                    0.000000            0.014250   \n",
       "75%                                    0.044000            0.205475   \n",
       "max                                    3.605800         9328.200000   \n",
       "\n",
       "       Inventory Growth  Asset Growth  Book Value per Share Growth  \\\n",
       "count       3518.000000   3518.000000                  3439.000000   \n",
       "mean           0.164692      2.279999                     0.813931   \n",
       "std            2.195115     92.428920                    25.630214   \n",
       "min           -1.000000     -0.979600                  -230.000000   \n",
       "25%            0.000000     -0.015400                    -0.084550   \n",
       "50%            0.000000      0.062200                     0.037100   \n",
       "75%            0.063850      0.217100                     0.141900   \n",
       "max           76.625000   5468.426400                  1360.125000   \n",
       "\n",
       "       Debt Growth  R&D Expense Growth  SG&A Expenses Growth  \\\n",
       "count  3506.000000         3561.000000           3565.000000   \n",
       "mean      1.361780            0.596529              0.382284   \n",
       "std      18.734301           25.894049              4.696975   \n",
       "min      -1.051000           -1.043700             -1.000000   \n",
       "25%      -0.048200            0.000000             -0.003900   \n",
       "50%       0.000000            0.000000              0.068800   \n",
       "75%       0.210300            0.004700              0.220500   \n",
       "max     729.576600         1542.611000            225.690000   \n",
       "\n",
       "       2015 PRICE VAR [%]        Class  \n",
       "count        3.808000e+03  3808.000000  \n",
       "mean         9.751560e+02     0.429097  \n",
       "std          4.098461e+04     0.495012  \n",
       "min         -1.003972e+02     0.000000  \n",
       "25%         -2.857143e+01     0.000000  \n",
       "50%         -5.281842e+00     0.000000  \n",
       "75%          1.331484e+01     1.000000  \n",
       "max          2.418601e+06     1.000000  \n",
       "\n",
       "[8 rows x 223 columns]"
      ]
     },
     "execution_count": 8,
     "metadata": {},
     "output_type": "execute_result"
    }
   ],
   "source": [
    "df.describe()"
   ]
  },
  {
   "cell_type": "code",
   "execution_count": 5,
   "metadata": {
    "ExecuteTime": {
     "end_time": "2021-04-04T23:54:17.973233Z",
     "start_time": "2021-04-04T23:54:17.963007Z"
    }
   },
   "outputs": [
    {
     "data": {
      "text/plain": [
       "Unnamed: 0                0\n",
       "Revenue                  44\n",
       "Revenue Growth          236\n",
       "Cost of Revenue          74\n",
       "Gross Profit             52\n",
       "                       ... \n",
       "R&D Expense Growth      247\n",
       "SG&A Expenses Growth    243\n",
       "Sector                    0\n",
       "2015 PRICE VAR [%]        0\n",
       "Class                     0\n",
       "Length: 225, dtype: int64"
      ]
     },
     "execution_count": 5,
     "metadata": {},
     "output_type": "execute_result"
    }
   ],
   "source": [
    "df.isna().sum()"
   ]
  },
  {
   "cell_type": "code",
   "execution_count": 6,
   "metadata": {
    "ExecuteTime": {
     "end_time": "2021-04-04T23:54:39.209201Z",
     "start_time": "2021-04-04T23:54:39.202663Z"
    }
   },
   "outputs": [
    {
     "data": {
      "text/plain": [
       "Index(['Unnamed: 0', 'Revenue', 'Revenue Growth', 'Cost of Revenue',\n",
       "       'Gross Profit', 'R&D Expenses', 'SG&A Expense', 'Operating Expenses',\n",
       "       'Operating Income', 'Interest Expense',\n",
       "       ...\n",
       "       'Receivables growth', 'Inventory Growth', 'Asset Growth',\n",
       "       'Book Value per Share Growth', 'Debt Growth', 'R&D Expense Growth',\n",
       "       'SG&A Expenses Growth', 'Sector', '2015 PRICE VAR [%]', 'Class'],\n",
       "      dtype='object', length=225)"
      ]
     },
     "execution_count": 6,
     "metadata": {},
     "output_type": "execute_result"
    }
   ],
   "source": [
    "df.columns"
   ]
  },
  {
   "cell_type": "code",
   "execution_count": 9,
   "metadata": {
    "ExecuteTime": {
     "end_time": "2021-04-05T21:02:59.077804Z",
     "start_time": "2021-04-05T21:02:59.071194Z"
    }
   },
   "outputs": [
    {
     "data": {
      "text/plain": [
       "['Unnamed: 0',\n",
       " 'Revenue',\n",
       " 'Revenue Growth',\n",
       " 'Cost of Revenue',\n",
       " 'Gross Profit',\n",
       " 'R&D Expenses',\n",
       " 'SG&A Expense',\n",
       " 'Operating Expenses',\n",
       " 'Operating Income',\n",
       " 'Interest Expense',\n",
       " 'Earnings before Tax',\n",
       " 'Income Tax Expense',\n",
       " 'Net Income - Non-Controlling int',\n",
       " 'Net Income - Discontinued ops',\n",
       " 'Net Income',\n",
       " 'Preferred Dividends',\n",
       " 'Net Income Com',\n",
       " 'EPS',\n",
       " 'EPS Diluted',\n",
       " 'Weighted Average Shs Out',\n",
       " 'Weighted Average Shs Out (Dil)',\n",
       " 'Dividend per Share',\n",
       " 'Gross Margin',\n",
       " 'EBITDA Margin',\n",
       " 'EBIT Margin',\n",
       " 'Profit Margin',\n",
       " 'Free Cash Flow margin',\n",
       " 'EBITDA',\n",
       " 'EBIT',\n",
       " 'Consolidated Income',\n",
       " 'Earnings Before Tax Margin',\n",
       " 'Net Profit Margin',\n",
       " 'Cash and cash equivalents',\n",
       " 'Short-term investments',\n",
       " 'Cash and short-term investments',\n",
       " 'Receivables',\n",
       " 'Inventories',\n",
       " 'Total current assets',\n",
       " 'Property, Plant & Equipment Net',\n",
       " 'Goodwill and Intangible Assets',\n",
       " 'Long-term investments',\n",
       " 'Tax assets',\n",
       " 'Total non-current assets',\n",
       " 'Total assets',\n",
       " 'Payables',\n",
       " 'Short-term debt',\n",
       " 'Total current liabilities',\n",
       " 'Long-term debt',\n",
       " 'Total debt',\n",
       " 'Deferred revenue',\n",
       " 'Tax Liabilities',\n",
       " 'Deposit Liabilities',\n",
       " 'Total non-current liabilities',\n",
       " 'Total liabilities',\n",
       " 'Other comprehensive income',\n",
       " 'Retained earnings (deficit)',\n",
       " 'Total shareholders equity',\n",
       " 'Investments',\n",
       " 'Net Debt',\n",
       " 'Other Assets',\n",
       " 'Other Liabilities',\n",
       " 'Depreciation & Amortization',\n",
       " 'Stock-based compensation',\n",
       " 'Operating Cash Flow',\n",
       " 'Capital Expenditure',\n",
       " 'Acquisitions and disposals',\n",
       " 'Investment purchases and sales',\n",
       " 'Investing Cash flow',\n",
       " 'Issuance (repayment) of debt',\n",
       " 'Issuance (buybacks) of shares',\n",
       " 'Dividend payments',\n",
       " 'Financing Cash Flow',\n",
       " 'Effect of forex changes on cash',\n",
       " 'Net cash flow / Change in cash',\n",
       " 'Free Cash Flow',\n",
       " 'Net Cash/Marketcap',\n",
       " 'priceBookValueRatio',\n",
       " 'priceToBookRatio',\n",
       " 'priceToSalesRatio',\n",
       " 'priceEarningsRatio',\n",
       " 'priceToFreeCashFlowsRatio',\n",
       " 'priceToOperatingCashFlowsRatio',\n",
       " 'priceCashFlowRatio',\n",
       " 'priceEarningsToGrowthRatio',\n",
       " 'priceSalesRatio',\n",
       " 'dividendYield',\n",
       " 'enterpriseValueMultiple',\n",
       " 'priceFairValue',\n",
       " 'ebitperRevenue',\n",
       " 'ebtperEBIT',\n",
       " 'niperEBT',\n",
       " 'grossProfitMargin',\n",
       " 'operatingProfitMargin',\n",
       " 'pretaxProfitMargin',\n",
       " 'netProfitMargin',\n",
       " 'effectiveTaxRate',\n",
       " 'returnOnAssets',\n",
       " 'returnOnEquity',\n",
       " 'returnOnCapitalEmployed',\n",
       " 'nIperEBT',\n",
       " 'eBTperEBIT',\n",
       " 'eBITperRevenue',\n",
       " 'payablesTurnover',\n",
       " 'inventoryTurnover',\n",
       " 'fixedAssetTurnover',\n",
       " 'assetTurnover',\n",
       " 'currentRatio',\n",
       " 'quickRatio',\n",
       " 'cashRatio',\n",
       " 'daysOfSalesOutstanding',\n",
       " 'daysOfInventoryOutstanding',\n",
       " 'operatingCycle',\n",
       " 'daysOfPayablesOutstanding',\n",
       " 'cashConversionCycle',\n",
       " 'debtRatio',\n",
       " 'debtEquityRatio',\n",
       " 'longtermDebtToCapitalization',\n",
       " 'totalDebtToCapitalization',\n",
       " 'interestCoverage',\n",
       " 'cashFlowToDebtRatio',\n",
       " 'companyEquityMultiplier',\n",
       " 'operatingCashFlowPerShare',\n",
       " 'freeCashFlowPerShare',\n",
       " 'cashPerShare',\n",
       " 'payoutRatio',\n",
       " 'operatingCashFlowSalesRatio',\n",
       " 'freeCashFlowOperatingCashFlowRatio',\n",
       " 'cashFlowCoverageRatios',\n",
       " 'shortTermCoverageRatios',\n",
       " 'capitalExpenditureCoverageRatios',\n",
       " 'dividendpaidAndCapexCoverageRatios',\n",
       " 'dividendPayoutRatio',\n",
       " 'Revenue per Share',\n",
       " 'Net Income per Share',\n",
       " 'Operating Cash Flow per Share',\n",
       " 'Free Cash Flow per Share',\n",
       " 'Cash per Share',\n",
       " 'Book Value per Share',\n",
       " 'Tangible Book Value per Share',\n",
       " 'Shareholders Equity per Share',\n",
       " 'Interest Debt per Share',\n",
       " 'Market Cap',\n",
       " 'Enterprise Value',\n",
       " 'PE ratio',\n",
       " 'Price to Sales Ratio',\n",
       " 'POCF ratio',\n",
       " 'PFCF ratio',\n",
       " 'PB ratio',\n",
       " 'PTB ratio',\n",
       " 'EV to Sales',\n",
       " 'Enterprise Value over EBITDA',\n",
       " 'EV to Operating cash flow',\n",
       " 'EV to Free cash flow',\n",
       " 'Earnings Yield',\n",
       " 'Free Cash Flow Yield',\n",
       " 'Debt to Equity',\n",
       " 'Debt to Assets',\n",
       " 'Net Debt to EBITDA',\n",
       " 'Current ratio',\n",
       " 'Interest Coverage',\n",
       " 'Income Quality',\n",
       " 'Dividend Yield',\n",
       " 'Payout Ratio',\n",
       " 'SG&A to Revenue',\n",
       " 'R&D to Revenue',\n",
       " 'Intangibles to Total Assets',\n",
       " 'Capex to Operating Cash Flow',\n",
       " 'Capex to Revenue',\n",
       " 'Capex to Depreciation',\n",
       " 'Stock-based compensation to Revenue',\n",
       " 'Graham Number',\n",
       " 'ROIC',\n",
       " 'Return on Tangible Assets',\n",
       " 'Graham Net-Net',\n",
       " 'Working Capital',\n",
       " 'Tangible Asset Value',\n",
       " 'Net Current Asset Value',\n",
       " 'Invested Capital',\n",
       " 'Average Receivables',\n",
       " 'Average Payables',\n",
       " 'Average Inventory',\n",
       " 'Days Sales Outstanding',\n",
       " 'Days Payables Outstanding',\n",
       " 'Days of Inventory on Hand',\n",
       " 'Receivables Turnover',\n",
       " 'Payables Turnover',\n",
       " 'Inventory Turnover',\n",
       " 'ROE',\n",
       " 'Capex per Share',\n",
       " 'Gross Profit Growth',\n",
       " 'EBIT Growth',\n",
       " 'Operating Income Growth',\n",
       " 'Net Income Growth',\n",
       " 'EPS Growth',\n",
       " 'EPS Diluted Growth',\n",
       " 'Weighted Average Shares Growth',\n",
       " 'Weighted Average Shares Diluted Growth',\n",
       " 'Dividends per Share Growth',\n",
       " 'Operating Cash Flow growth',\n",
       " 'Free Cash Flow growth',\n",
       " '10Y Revenue Growth (per Share)',\n",
       " '5Y Revenue Growth (per Share)',\n",
       " '3Y Revenue Growth (per Share)',\n",
       " '10Y Operating CF Growth (per Share)',\n",
       " '5Y Operating CF Growth (per Share)',\n",
       " '3Y Operating CF Growth (per Share)',\n",
       " '10Y Net Income Growth (per Share)',\n",
       " '5Y Net Income Growth (per Share)',\n",
       " '3Y Net Income Growth (per Share)',\n",
       " '10Y Shareholders Equity Growth (per Share)',\n",
       " '5Y Shareholders Equity Growth (per Share)',\n",
       " '3Y Shareholders Equity Growth (per Share)',\n",
       " '10Y Dividend per Share Growth (per Share)',\n",
       " '5Y Dividend per Share Growth (per Share)',\n",
       " '3Y Dividend per Share Growth (per Share)',\n",
       " 'Receivables growth',\n",
       " 'Inventory Growth',\n",
       " 'Asset Growth',\n",
       " 'Book Value per Share Growth',\n",
       " 'Debt Growth',\n",
       " 'R&D Expense Growth',\n",
       " 'SG&A Expenses Growth',\n",
       " 'Sector',\n",
       " '2015 PRICE VAR [%]',\n",
       " 'Class']"
      ]
     },
     "execution_count": 9,
     "metadata": {},
     "output_type": "execute_result"
    }
   ],
   "source": [
    "list(df)"
   ]
  },
  {
   "cell_type": "code",
   "execution_count": 10,
   "metadata": {
    "ExecuteTime": {
     "end_time": "2021-04-05T21:09:50.158485Z",
     "start_time": "2021-04-05T21:09:50.151756Z"
    }
   },
   "outputs": [
    {
     "data": {
      "text/plain": [
       "0    2174\n",
       "1    1634\n",
       "Name: Class, dtype: int64"
      ]
     },
     "execution_count": 10,
     "metadata": {},
     "output_type": "execute_result"
    }
   ],
   "source": [
    "df.Class.value_counts()"
   ]
  },
  {
   "cell_type": "code",
   "execution_count": 11,
   "metadata": {
    "ExecuteTime": {
     "end_time": "2021-04-05T21:10:02.759978Z",
     "start_time": "2021-04-05T21:10:02.753121Z"
    }
   },
   "outputs": [
    {
     "data": {
      "text/plain": [
       "Financial Services        660\n",
       "Healthcare                582\n",
       "Technology                576\n",
       "Industrials               501\n",
       "Consumer Cyclical         457\n",
       "Basic Materials           242\n",
       "Real Estate               224\n",
       "Energy                    221\n",
       "Consumer Defensive        165\n",
       "Utilities                  97\n",
       "Communication Services     83\n",
       "Name: Sector, dtype: int64"
      ]
     },
     "execution_count": 11,
     "metadata": {},
     "output_type": "execute_result"
    }
   ],
   "source": [
    "df.Sector.value_counts()"
   ]
  },
  {
   "cell_type": "code",
   "execution_count": 17,
   "metadata": {
    "ExecuteTime": {
     "end_time": "2021-04-05T21:17:16.633290Z",
     "start_time": "2021-04-05T21:17:16.408835Z"
    }
   },
   "outputs": [
    {
     "data": {
      "text/plain": [
       "([<matplotlib.axis.XTick at 0x7fbbcc7a9780>,\n",
       "  <matplotlib.axis.XTick at 0x7fbbcc7a90b8>,\n",
       "  <matplotlib.axis.XTick at 0x7fbbcd035588>,\n",
       "  <matplotlib.axis.XTick at 0x7fbbcd126b38>,\n",
       "  <matplotlib.axis.XTick at 0x7fbbcd12e0b8>,\n",
       "  <matplotlib.axis.XTick at 0x7fbbcd12e518>,\n",
       "  <matplotlib.axis.XTick at 0x7fbbcd12e9e8>,\n",
       "  <matplotlib.axis.XTick at 0x7fbbcd12eeb8>,\n",
       "  <matplotlib.axis.XTick at 0x7fbbcd126e80>,\n",
       "  <matplotlib.axis.XTick at 0x7fbbcd139358>,\n",
       "  <matplotlib.axis.XTick at 0x7fbbcd139828>],\n",
       " <a list of 11 Text xticklabel objects>)"
      ]
     },
     "execution_count": 17,
     "metadata": {},
     "output_type": "execute_result"
    },
    {
     "data": {
      "image/png": "[encoded data removed]",
      "text/plain": [
       "<Figure size 432x288 with 1 Axes>"
      ]
     },
     "metadata": {
      "needs_background": "light"
     },
     "output_type": "display_data"
    }
   ],
   "source": [
    "df_sector = df['Sector'].value_counts()\n",
    "\n",
    "sns.barplot(np.arange(len(df_sector)), df_sector)\n",
    "plt.xticks(np.arange(len(df_sector)), df_sector.index.values.tolist(), rotation = 90)"
   ]
  },
  {
   "cell_type": "code",
   "execution_count": 22,
   "metadata": {
    "ExecuteTime": {
     "end_time": "2021-04-05T21:34:28.005156Z",
     "start_time": "2021-04-05T21:34:27.886704Z"
    }
   },
   "outputs": [
    {
     "data": {
      "text/plain": [
       "<matplotlib.axes._subplots.AxesSubplot at 0x7fbbcce3eb70>"
      ]
     },
     "execution_count": 22,
     "metadata": {},
     "output_type": "execute_result"
    },
    {
     "data": {
      "image/png": "[encoded data removed]",
      "text/plain": [
       "<Figure size 432x288 with 1 Axes>"
      ]
     },
     "metadata": {
      "needs_background": "light"
     },
     "output_type": "display_data"
    }
   ],
   "source": [
    "df_class = df['Class'].value_counts()\n",
    "\n",
    "sns.barplot(np.arange(len(df_class)), df_class)\n",
    "\n",
    "\n",
    "# 0 = stocks not worth investing in \n",
    "# 1 = stocks worth investing in"
   ]
  },
  {
   "cell_type": "code",
   "execution_count": 23,
   "metadata": {
    "ExecuteTime": {
     "end_time": "2021-04-05T21:39:19.493782Z",
     "start_time": "2021-04-05T21:39:19.490974Z"
    }
   },
   "outputs": [],
   "source": [
    "# I want to use just the ones that are worth investing in"
   ]
  },
  {
   "cell_type": "code",
   "execution_count": 28,
   "metadata": {
    "ExecuteTime": {
     "end_time": "2021-04-05T21:55:04.336197Z",
     "start_time": "2021-04-05T21:55:04.329281Z"
    }
   },
   "outputs": [],
   "source": [
    "data = df[df['Class'] == 1]"
   ]
  },
  {
   "cell_type": "code",
   "execution_count": 29,
   "metadata": {
    "ExecuteTime": {
     "end_time": "2021-04-05T21:55:09.315796Z",
     "start_time": "2021-04-05T21:55:09.288027Z"
    }
   },
   "outputs": [
    {
     "data": {
      "text/html": [
       "<div>\n",
       "<style scoped>\n",
       "    .dataframe tbody tr th:only-of-type {\n",
       "        vertical-align: middle;\n",
       "    }\n",
       "\n",
       "    .dataframe tbody tr th {\n",
       "        vertical-align: top;\n",
       "    }\n",
       "\n",
       "    .dataframe thead th {\n",
       "        text-align: right;\n",
       "    }\n",
       "</style>\n",
       "<table border=\"1\" class=\"dataframe\">\n",
       "  <thead>\n",
       "    <tr style=\"text-align: right;\">\n",
       "      <th></th>\n",
       "      <th>Unnamed: 0</th>\n",
       "      <th>Revenue</th>\n",
       "      <th>Revenue Growth</th>\n",
       "      <th>Cost of Revenue</th>\n",
       "      <th>Gross Profit</th>\n",
       "      <th>R&amp;D Expenses</th>\n",
       "      <th>SG&amp;A Expense</th>\n",
       "      <th>Operating Expenses</th>\n",
       "      <th>Operating Income</th>\n",
       "      <th>Interest Expense</th>\n",
       "      <th>...</th>\n",
       "      <th>Receivables growth</th>\n",
       "      <th>Inventory Growth</th>\n",
       "      <th>Asset Growth</th>\n",
       "      <th>Book Value per Share Growth</th>\n",
       "      <th>Debt Growth</th>\n",
       "      <th>R&amp;D Expense Growth</th>\n",
       "      <th>SG&amp;A Expenses Growth</th>\n",
       "      <th>Sector</th>\n",
       "      <th>2015 PRICE VAR [%]</th>\n",
       "      <th>Class</th>\n",
       "    </tr>\n",
       "  </thead>\n",
       "  <tbody>\n",
       "    <tr>\n",
       "      <th>2</th>\n",
       "      <td>KR</td>\n",
       "      <td>9.837500e+10</td>\n",
       "      <td>0.0182</td>\n",
       "      <td>7.813800e+10</td>\n",
       "      <td>2.023700e+10</td>\n",
       "      <td>0.0</td>\n",
       "      <td>1.519600e+10</td>\n",
       "      <td>1.751200e+10</td>\n",
       "      <td>2.725000e+09</td>\n",
       "      <td>4.430000e+08</td>\n",
       "      <td>...</td>\n",
       "      <td>0.0618</td>\n",
       "      <td>0.0981</td>\n",
       "      <td>0.1886</td>\n",
       "      <td>0.3268</td>\n",
       "      <td>0.2738</td>\n",
       "      <td>0.0</td>\n",
       "      <td>0.0234</td>\n",
       "      <td>Consumer Defensive</td>\n",
       "      <td>33.118297</td>\n",
       "      <td>1</td>\n",
       "    </tr>\n",
       "    <tr>\n",
       "      <th>3</th>\n",
       "      <td>RAD</td>\n",
       "      <td>2.552641e+10</td>\n",
       "      <td>0.0053</td>\n",
       "      <td>1.820268e+10</td>\n",
       "      <td>7.323734e+09</td>\n",
       "      <td>0.0</td>\n",
       "      <td>6.561162e+09</td>\n",
       "      <td>6.586482e+09</td>\n",
       "      <td>7.372520e+08</td>\n",
       "      <td>4.245910e+08</td>\n",
       "      <td>...</td>\n",
       "      <td>0.0211</td>\n",
       "      <td>-0.0510</td>\n",
       "      <td>-0.0189</td>\n",
       "      <td>0.1963</td>\n",
       "      <td>-0.0458</td>\n",
       "      <td>0.0</td>\n",
       "      <td>-0.0060</td>\n",
       "      <td>Consumer Defensive</td>\n",
       "      <td>2.752291</td>\n",
       "      <td>1</td>\n",
       "    </tr>\n",
       "    <tr>\n",
       "      <th>4</th>\n",
       "      <td>GIS</td>\n",
       "      <td>1.790960e+10</td>\n",
       "      <td>0.0076</td>\n",
       "      <td>1.153980e+10</td>\n",
       "      <td>6.369800e+09</td>\n",
       "      <td>0.0</td>\n",
       "      <td>3.474300e+09</td>\n",
       "      <td>3.412400e+09</td>\n",
       "      <td>2.957400e+09</td>\n",
       "      <td>3.024000e+08</td>\n",
       "      <td>...</td>\n",
       "      <td>0.0257</td>\n",
       "      <td>0.0090</td>\n",
       "      <td>0.0215</td>\n",
       "      <td>0.0274</td>\n",
       "      <td>0.1025</td>\n",
       "      <td>0.0</td>\n",
       "      <td>-0.0220</td>\n",
       "      <td>Consumer Defensive</td>\n",
       "      <td>12.897715</td>\n",
       "      <td>1</td>\n",
       "    </tr>\n",
       "    <tr>\n",
       "      <th>5</th>\n",
       "      <td>PM</td>\n",
       "      <td>8.010600e+10</td>\n",
       "      <td>0.0010</td>\n",
       "      <td>6.077500e+10</td>\n",
       "      <td>1.933100e+10</td>\n",
       "      <td>0.0</td>\n",
       "      <td>7.001000e+09</td>\n",
       "      <td>7.629000e+09</td>\n",
       "      <td>1.170200e+10</td>\n",
       "      <td>1.052000e+09</td>\n",
       "      <td>...</td>\n",
       "      <td>0.0392</td>\n",
       "      <td>-0.1274</td>\n",
       "      <td>-0.0781</td>\n",
       "      <td>-0.6769</td>\n",
       "      <td>0.0642</td>\n",
       "      <td>0.0</td>\n",
       "      <td>0.0161</td>\n",
       "      <td>Consumer Defensive</td>\n",
       "      <td>13.980937</td>\n",
       "      <td>1</td>\n",
       "    </tr>\n",
       "    <tr>\n",
       "      <th>6</th>\n",
       "      <td>KO</td>\n",
       "      <td>4.599800e+10</td>\n",
       "      <td>-0.0183</td>\n",
       "      <td>1.788900e+10</td>\n",
       "      <td>2.810900e+10</td>\n",
       "      <td>0.0</td>\n",
       "      <td>1.721800e+10</td>\n",
       "      <td>1.840100e+10</td>\n",
       "      <td>9.708000e+09</td>\n",
       "      <td>4.830000e+08</td>\n",
       "      <td>...</td>\n",
       "      <td>-0.0835</td>\n",
       "      <td>-0.0540</td>\n",
       "      <td>0.0219</td>\n",
       "      <td>-0.0763</td>\n",
       "      <td>0.1258</td>\n",
       "      <td>0.0</td>\n",
       "      <td>-0.0053</td>\n",
       "      <td>Consumer Defensive</td>\n",
       "      <td>5.339413</td>\n",
       "      <td>1</td>\n",
       "    </tr>\n",
       "  </tbody>\n",
       "</table>\n",
       "<p>5 rows × 225 columns</p>\n",
       "</div>"
      ],
      "text/plain": [
       "  Unnamed: 0       Revenue  Revenue Growth  Cost of Revenue  Gross Profit  \\\n",
       "2         KR  9.837500e+10          0.0182     7.813800e+10  2.023700e+10   \n",
       "3        RAD  2.552641e+10          0.0053     1.820268e+10  7.323734e+09   \n",
       "4        GIS  1.790960e+10          0.0076     1.153980e+10  6.369800e+09   \n",
       "5         PM  8.010600e+10          0.0010     6.077500e+10  1.933100e+10   \n",
       "6         KO  4.599800e+10         -0.0183     1.788900e+10  2.810900e+10   \n",
       "\n",
       "   R&D Expenses  SG&A Expense  Operating Expenses  Operating Income  \\\n",
       "2           0.0  1.519600e+10        1.751200e+10      2.725000e+09   \n",
       "3           0.0  6.561162e+09        6.586482e+09      7.372520e+08   \n",
       "4           0.0  3.474300e+09        3.412400e+09      2.957400e+09   \n",
       "5           0.0  7.001000e+09        7.629000e+09      1.170200e+10   \n",
       "6           0.0  1.721800e+10        1.840100e+10      9.708000e+09   \n",
       "\n",
       "   Interest Expense  ...  Receivables growth  Inventory Growth  Asset Growth  \\\n",
       "2      4.430000e+08  ...              0.0618            0.0981        0.1886   \n",
       "3      4.245910e+08  ...              0.0211           -0.0510       -0.0189   \n",
       "4      3.024000e+08  ...              0.0257            0.0090        0.0215   \n",
       "5      1.052000e+09  ...              0.0392           -0.1274       -0.0781   \n",
       "6      4.830000e+08  ...             -0.0835           -0.0540        0.0219   \n",
       "\n",
       "   Book Value per Share Growth  Debt Growth  R&D Expense Growth  \\\n",
       "2                       0.3268       0.2738                 0.0   \n",
       "3                       0.1963      -0.0458                 0.0   \n",
       "4                       0.0274       0.1025                 0.0   \n",
       "5                      -0.6769       0.0642                 0.0   \n",
       "6                      -0.0763       0.1258                 0.0   \n",
       "\n",
       "   SG&A Expenses Growth              Sector  2015 PRICE VAR [%]  Class  \n",
       "2                0.0234  Consumer Defensive           33.118297      1  \n",
       "3               -0.0060  Consumer Defensive            2.752291      1  \n",
       "4               -0.0220  Consumer Defensive           12.897715      1  \n",
       "5                0.0161  Consumer Defensive           13.980937      1  \n",
       "6               -0.0053  Consumer Defensive            5.339413      1  \n",
       "\n",
       "[5 rows x 225 columns]"
      ]
     },
     "execution_count": 29,
     "metadata": {},
     "output_type": "execute_result"
    }
   ],
   "source": [
    "data.head()"
   ]
  },
  {
   "cell_type": "code",
   "execution_count": 30,
   "metadata": {
    "ExecuteTime": {
     "end_time": "2021-04-05T21:55:22.101267Z",
     "start_time": "2021-04-05T21:55:22.088528Z"
    }
   },
   "outputs": [
    {
     "name": "stdout",
     "output_type": "stream",
     "text": [
      "<class 'pandas.core.frame.DataFrame'>\n",
      "Int64Index: 1634 entries, 2 to 3806\n",
      "Columns: 225 entries, Unnamed: 0 to Class\n",
      "dtypes: float64(222), int64(1), object(2)\n",
      "memory usage: 2.8+ MB\n"
     ]
    }
   ],
   "source": [
    "data.info()"
   ]
  },
  {
   "cell_type": "code",
   "execution_count": 33,
   "metadata": {
    "ExecuteTime": {
     "end_time": "2021-04-05T21:55:59.272646Z",
     "start_time": "2021-04-05T21:55:59.265777Z"
    }
   },
   "outputs": [
    {
     "data": {
      "text/plain": [
       "1    1634\n",
       "Name: Class, dtype: int64"
      ]
     },
     "execution_count": 33,
     "metadata": {},
     "output_type": "execute_result"
    }
   ],
   "source": [
    "data.Class.value_counts()\n"
   ]
  },
  {
   "cell_type": "code",
   "execution_count": 1,
   "metadata": {
    "ExecuteTime": {
     "end_time": "2021-04-07T17:39:22.884143Z",
     "start_time": "2021-04-07T17:39:22.776994Z"
    }
   },
   "outputs": [
    {
     "ename": "NameError",
     "evalue": "name 'data' is not defined",
     "output_type": "error",
     "traceback": [
      "\u001b[0;31m---------------------------------------------------------------------------\u001b[0m",
      "\u001b[0;31mNameError\u001b[0m                                 Traceback (most recent call last)",
      "\u001b[0;32m<ipython-input-1-dfc6337a85cb>\u001b[0m in \u001b[0;36m<module>\u001b[0;34m()\u001b[0m\n\u001b[0;32m----> 1\u001b[0;31m \u001b[0mdata\u001b[0m\u001b[0;34m.\u001b[0m\u001b[0mto_csv\u001b[0m\u001b[0;34m(\u001b[0m\u001b[0;34m'2014_clean'\u001b[0m\u001b[0;34m)\u001b[0m\u001b[0;34m\u001b[0m\u001b[0;34m\u001b[0m\u001b[0m\n\u001b[0m",
      "\u001b[0;31mNameError\u001b[0m: name 'data' is not defined"
     ]
    }
   ],
   "source": [
    "data.to_csv('2014_clean')"
   ]
  },
  {
   "cell_type": "code",
   "execution_count": null,
   "metadata": {},
   "outputs": [],
   "source": []
  }
 ],
 "metadata": {
  "kernelspec": {
   "display_name": "Python 3",
   "language": "python",
   "name": "python3"
  },
  "language_info": {
   "codemirror_mode": {
    "name": "ipython",
    "version": 3
   },
   "file_extension": ".py",
   "mimetype": "text/x-python",
   "name": "python",
   "nbconvert_exporter": "python",
   "pygments_lexer": "ipython3",
   "version": "3.6.9"
  },
  "toc": {
   "base_numbering": 1,
   "nav_menu": {},
   "number_sections": true,
   "sideBar": true,
   "skip_h1_title": false,
   "title_cell": "Table of Contents",
   "title_sidebar": "Contents",
   "toc_cell": false,
   "toc_position": {},
   "toc_section_display": true,
   "toc_window_display": false
  },
  "varInspector": {
   "cols": {
    "lenName": 16,
    "lenType": 16,
    "lenVar": 40
   },
   "kernels_config": {
    "python": {
     "delete_cmd_postfix": "",
     "delete_cmd_prefix": "del ",
     "library": "var_list.py",
     "varRefreshCmd": "print(var_dic_list())"
    },
    "r": {
     "delete_cmd_postfix": ") ",
     "delete_cmd_prefix": "rm(",
     "library": "var_list.r",
     "varRefreshCmd": "cat(var_dic_list()) "
    }
   },
   "types_to_exclude": [
    "module",
    "function",
    "builtin_function_or_method",
    "instance",
    "_Feature"
   ],
   "window_display": false
  }
 },
 "nbformat": 4,
 "nbformat_minor": 4
}
