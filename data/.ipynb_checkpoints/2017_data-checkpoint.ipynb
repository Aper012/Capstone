{
 "cells": [
  {
   "cell_type": "code",
   "execution_count": 1,
   "metadata": {
    "ExecuteTime": {
     "end_time": "2021-04-07T17:52:26.853605Z",
     "start_time": "2021-04-07T17:52:26.103050Z"
    }
   },
   "outputs": [],
   "source": [
    "import pandas as pd\n",
    "import numpy as np\n",
    "import seaborn as sns\n",
    "import matplotlib.pyplot as plt\n",
    "%matplotlib inline"
   ]
  },
  {
   "cell_type": "code",
   "execution_count": 2,
   "metadata": {
    "ExecuteTime": {
     "end_time": "2021-04-07T17:52:27.331249Z",
     "start_time": "2021-04-07T17:52:27.115810Z"
    }
   },
   "outputs": [
    {
     "data": {
      "text/html": [
       "<div>\n",
       "<style scoped>\n",
       "    .dataframe tbody tr th:only-of-type {\n",
       "        vertical-align: middle;\n",
       "    }\n",
       "\n",
       "    .dataframe tbody tr th {\n",
       "        vertical-align: top;\n",
       "    }\n",
       "\n",
       "    .dataframe thead th {\n",
       "        text-align: right;\n",
       "    }\n",
       "</style>\n",
       "<table border=\"1\" class=\"dataframe\">\n",
       "  <thead>\n",
       "    <tr style=\"text-align: right;\">\n",
       "      <th></th>\n",
       "      <th>Unnamed: 0</th>\n",
       "      <th>Revenue</th>\n",
       "      <th>Revenue Growth</th>\n",
       "      <th>Cost of Revenue</th>\n",
       "      <th>Gross Profit</th>\n",
       "      <th>R&amp;D Expenses</th>\n",
       "      <th>SG&amp;A Expense</th>\n",
       "      <th>Operating Expenses</th>\n",
       "      <th>Operating Income</th>\n",
       "      <th>Interest Expense</th>\n",
       "      <th>...</th>\n",
       "      <th>Receivables growth</th>\n",
       "      <th>Inventory Growth</th>\n",
       "      <th>Asset Growth</th>\n",
       "      <th>Book Value per Share Growth</th>\n",
       "      <th>Debt Growth</th>\n",
       "      <th>R&amp;D Expense Growth</th>\n",
       "      <th>SG&amp;A Expenses Growth</th>\n",
       "      <th>Sector</th>\n",
       "      <th>2018 PRICE VAR [%]</th>\n",
       "      <th>Class</th>\n",
       "    </tr>\n",
       "  </thead>\n",
       "  <tbody>\n",
       "    <tr>\n",
       "      <th>0</th>\n",
       "      <td>PG</td>\n",
       "      <td>6.505800e+10</td>\n",
       "      <td>-0.0037</td>\n",
       "      <td>3.263800e+10</td>\n",
       "      <td>3.242000e+10</td>\n",
       "      <td>0.000000e+00</td>\n",
       "      <td>1.865400e+10</td>\n",
       "      <td>1.865400e+10</td>\n",
       "      <td>1.376600e+10</td>\n",
       "      <td>4.650000e+08</td>\n",
       "      <td>...</td>\n",
       "      <td>0.0505</td>\n",
       "      <td>-0.0195</td>\n",
       "      <td>-0.0529</td>\n",
       "      <td>0.0012</td>\n",
       "      <td>0.0325</td>\n",
       "      <td>0.0000</td>\n",
       "      <td>-0.0156</td>\n",
       "      <td>Consumer Defensive</td>\n",
       "      <td>4.975151</td>\n",
       "      <td>1</td>\n",
       "    </tr>\n",
       "    <tr>\n",
       "      <th>1</th>\n",
       "      <td>VIPS</td>\n",
       "      <td>1.102060e+10</td>\n",
       "      <td>0.3525</td>\n",
       "      <td>8.557810e+09</td>\n",
       "      <td>2.462794e+09</td>\n",
       "      <td>2.733452e+08</td>\n",
       "      <td>8.201852e+08</td>\n",
       "      <td>2.056136e+09</td>\n",
       "      <td>4.066575e+08</td>\n",
       "      <td>1.245995e+07</td>\n",
       "      <td>...</td>\n",
       "      <td>0.9219</td>\n",
       "      <td>0.4764</td>\n",
       "      <td>0.5889</td>\n",
       "      <td>1.5821</td>\n",
       "      <td>0.3805</td>\n",
       "      <td>0.2141</td>\n",
       "      <td>0.1920</td>\n",
       "      <td>Consumer Defensive</td>\n",
       "      <td>-56.320000</td>\n",
       "      <td>0</td>\n",
       "    </tr>\n",
       "    <tr>\n",
       "      <th>2</th>\n",
       "      <td>KR</td>\n",
       "      <td>1.153370e+11</td>\n",
       "      <td>0.0501</td>\n",
       "      <td>8.950200e+10</td>\n",
       "      <td>2.583500e+10</td>\n",
       "      <td>0.000000e+00</td>\n",
       "      <td>1.916200e+10</td>\n",
       "      <td>2.238300e+10</td>\n",
       "      <td>3.452000e+09</td>\n",
       "      <td>5.220000e+08</td>\n",
       "      <td>...</td>\n",
       "      <td>-0.0490</td>\n",
       "      <td>0.0637</td>\n",
       "      <td>0.0769</td>\n",
       "      <td>0.0071</td>\n",
       "      <td>0.1654</td>\n",
       "      <td>0.0000</td>\n",
       "      <td>0.0678</td>\n",
       "      <td>Consumer Defensive</td>\n",
       "      <td>-0.990449</td>\n",
       "      <td>0</td>\n",
       "    </tr>\n",
       "    <tr>\n",
       "      <th>3</th>\n",
       "      <td>RAD</td>\n",
       "      <td>2.292754e+10</td>\n",
       "      <td>0.1039</td>\n",
       "      <td>1.786283e+10</td>\n",
       "      <td>5.064707e+09</td>\n",
       "      <td>0.000000e+00</td>\n",
       "      <td>4.776995e+09</td>\n",
       "      <td>4.816124e+09</td>\n",
       "      <td>2.485830e+08</td>\n",
       "      <td>2.000650e+08</td>\n",
       "      <td>...</td>\n",
       "      <td>0.1063</td>\n",
       "      <td>-0.3365</td>\n",
       "      <td>0.0281</td>\n",
       "      <td>0.0502</td>\n",
       "      <td>-0.5295</td>\n",
       "      <td>0.0000</td>\n",
       "      <td>0.0427</td>\n",
       "      <td>Consumer Defensive</td>\n",
       "      <td>-66.666666</td>\n",
       "      <td>0</td>\n",
       "    </tr>\n",
       "    <tr>\n",
       "      <th>4</th>\n",
       "      <td>GIS</td>\n",
       "      <td>1.561980e+10</td>\n",
       "      <td>-0.0570</td>\n",
       "      <td>1.005200e+10</td>\n",
       "      <td>5.567800e+09</td>\n",
       "      <td>0.000000e+00</td>\n",
       "      <td>2.888800e+09</td>\n",
       "      <td>3.069200e+09</td>\n",
       "      <td>2.498600e+09</td>\n",
       "      <td>2.951000e+08</td>\n",
       "      <td>...</td>\n",
       "      <td>0.0509</td>\n",
       "      <td>0.0494</td>\n",
       "      <td>0.0046</td>\n",
       "      <td>-0.0943</td>\n",
       "      <td>0.1246</td>\n",
       "      <td>0.0000</td>\n",
       "      <td>-0.0738</td>\n",
       "      <td>Consumer Defensive</td>\n",
       "      <td>-31.280412</td>\n",
       "      <td>0</td>\n",
       "    </tr>\n",
       "  </tbody>\n",
       "</table>\n",
       "<p>5 rows × 225 columns</p>\n",
       "</div>"
      ],
      "text/plain": [
       "  Unnamed: 0       Revenue  Revenue Growth  Cost of Revenue  Gross Profit  \\\n",
       "0         PG  6.505800e+10         -0.0037     3.263800e+10  3.242000e+10   \n",
       "1       VIPS  1.102060e+10          0.3525     8.557810e+09  2.462794e+09   \n",
       "2         KR  1.153370e+11          0.0501     8.950200e+10  2.583500e+10   \n",
       "3        RAD  2.292754e+10          0.1039     1.786283e+10  5.064707e+09   \n",
       "4        GIS  1.561980e+10         -0.0570     1.005200e+10  5.567800e+09   \n",
       "\n",
       "   R&D Expenses  SG&A Expense  Operating Expenses  Operating Income  \\\n",
       "0  0.000000e+00  1.865400e+10        1.865400e+10      1.376600e+10   \n",
       "1  2.733452e+08  8.201852e+08        2.056136e+09      4.066575e+08   \n",
       "2  0.000000e+00  1.916200e+10        2.238300e+10      3.452000e+09   \n",
       "3  0.000000e+00  4.776995e+09        4.816124e+09      2.485830e+08   \n",
       "4  0.000000e+00  2.888800e+09        3.069200e+09      2.498600e+09   \n",
       "\n",
       "   Interest Expense  ...  Receivables growth  Inventory Growth  Asset Growth  \\\n",
       "0      4.650000e+08  ...              0.0505           -0.0195       -0.0529   \n",
       "1      1.245995e+07  ...              0.9219            0.4764        0.5889   \n",
       "2      5.220000e+08  ...             -0.0490            0.0637        0.0769   \n",
       "3      2.000650e+08  ...              0.1063           -0.3365        0.0281   \n",
       "4      2.951000e+08  ...              0.0509            0.0494        0.0046   \n",
       "\n",
       "   Book Value per Share Growth  Debt Growth  R&D Expense Growth  \\\n",
       "0                       0.0012       0.0325              0.0000   \n",
       "1                       1.5821       0.3805              0.2141   \n",
       "2                       0.0071       0.1654              0.0000   \n",
       "3                       0.0502      -0.5295              0.0000   \n",
       "4                      -0.0943       0.1246              0.0000   \n",
       "\n",
       "   SG&A Expenses Growth              Sector  2018 PRICE VAR [%]  Class  \n",
       "0               -0.0156  Consumer Defensive            4.975151      1  \n",
       "1                0.1920  Consumer Defensive          -56.320000      0  \n",
       "2                0.0678  Consumer Defensive           -0.990449      0  \n",
       "3                0.0427  Consumer Defensive          -66.666666      0  \n",
       "4               -0.0738  Consumer Defensive          -31.280412      0  \n",
       "\n",
       "[5 rows x 225 columns]"
      ]
     },
     "execution_count": 2,
     "metadata": {},
     "output_type": "execute_result"
    }
   ],
   "source": [
    "df = pd.read_csv('../csv_files/2017_Financial_Data.csv')\n",
    "df.head()"
   ]
  },
  {
   "cell_type": "code",
   "execution_count": 3,
   "metadata": {
    "ExecuteTime": {
     "end_time": "2021-04-07T17:52:28.029706Z",
     "start_time": "2021-04-07T17:52:28.017709Z"
    }
   },
   "outputs": [
    {
     "name": "stdout",
     "output_type": "stream",
     "text": [
      "<class 'pandas.core.frame.DataFrame'>\n",
      "RangeIndex: 4960 entries, 0 to 4959\n",
      "Columns: 225 entries, Unnamed: 0 to Class\n",
      "dtypes: float64(222), int64(1), object(2)\n",
      "memory usage: 8.5+ MB\n"
     ]
    }
   ],
   "source": [
    "df.info()"
   ]
  },
  {
   "cell_type": "code",
   "execution_count": 4,
   "metadata": {
    "ExecuteTime": {
     "end_time": "2021-04-07T17:52:28.607245Z",
     "start_time": "2021-04-07T17:52:28.596304Z"
    }
   },
   "outputs": [
    {
     "data": {
      "text/plain": [
       "Unnamed: 0                0\n",
       "Revenue                 525\n",
       "Revenue Growth          724\n",
       "Cost of Revenue         679\n",
       "Gross Profit            534\n",
       "                       ... \n",
       "R&D Expense Growth      850\n",
       "SG&A Expenses Growth    828\n",
       "Sector                    0\n",
       "2018 PRICE VAR [%]        0\n",
       "Class                     0\n",
       "Length: 225, dtype: int64"
      ]
     },
     "execution_count": 4,
     "metadata": {},
     "output_type": "execute_result"
    }
   ],
   "source": [
    "df.isna().sum()"
   ]
  },
  {
   "cell_type": "code",
   "execution_count": 5,
   "metadata": {
    "ExecuteTime": {
     "end_time": "2021-04-07T17:52:29.112919Z",
     "start_time": "2021-04-07T17:52:29.001480Z"
    }
   },
   "outputs": [
    {
     "data": {
      "text/plain": [
       "0"
      ]
     },
     "execution_count": 5,
     "metadata": {},
     "output_type": "execute_result"
    }
   ],
   "source": [
    "df.duplicated().sum()"
   ]
  },
  {
   "cell_type": "code",
   "execution_count": 6,
   "metadata": {
    "ExecuteTime": {
     "end_time": "2021-04-07T17:52:29.417827Z",
     "start_time": "2021-04-07T17:52:29.410068Z"
    }
   },
   "outputs": [],
   "source": [
    "data = df[df['Class'] == 1]"
   ]
  },
  {
   "cell_type": "code",
   "execution_count": 7,
   "metadata": {
    "ExecuteTime": {
     "end_time": "2021-04-07T17:52:29.878031Z",
     "start_time": "2021-04-07T17:52:29.843329Z"
    }
   },
   "outputs": [
    {
     "data": {
      "text/html": [
       "<div>\n",
       "<style scoped>\n",
       "    .dataframe tbody tr th:only-of-type {\n",
       "        vertical-align: middle;\n",
       "    }\n",
       "\n",
       "    .dataframe tbody tr th {\n",
       "        vertical-align: top;\n",
       "    }\n",
       "\n",
       "    .dataframe thead th {\n",
       "        text-align: right;\n",
       "    }\n",
       "</style>\n",
       "<table border=\"1\" class=\"dataframe\">\n",
       "  <thead>\n",
       "    <tr style=\"text-align: right;\">\n",
       "      <th></th>\n",
       "      <th>Unnamed: 0</th>\n",
       "      <th>Revenue</th>\n",
       "      <th>Revenue Growth</th>\n",
       "      <th>Cost of Revenue</th>\n",
       "      <th>Gross Profit</th>\n",
       "      <th>R&amp;D Expenses</th>\n",
       "      <th>SG&amp;A Expense</th>\n",
       "      <th>Operating Expenses</th>\n",
       "      <th>Operating Income</th>\n",
       "      <th>Interest Expense</th>\n",
       "      <th>...</th>\n",
       "      <th>Receivables growth</th>\n",
       "      <th>Inventory Growth</th>\n",
       "      <th>Asset Growth</th>\n",
       "      <th>Book Value per Share Growth</th>\n",
       "      <th>Debt Growth</th>\n",
       "      <th>R&amp;D Expense Growth</th>\n",
       "      <th>SG&amp;A Expenses Growth</th>\n",
       "      <th>Sector</th>\n",
       "      <th>2018 PRICE VAR [%]</th>\n",
       "      <th>Class</th>\n",
       "    </tr>\n",
       "  </thead>\n",
       "  <tbody>\n",
       "    <tr>\n",
       "      <th>0</th>\n",
       "      <td>PG</td>\n",
       "      <td>6.505800e+10</td>\n",
       "      <td>-0.0037</td>\n",
       "      <td>3.263800e+10</td>\n",
       "      <td>3.242000e+10</td>\n",
       "      <td>0.0</td>\n",
       "      <td>1.865400e+10</td>\n",
       "      <td>1.865400e+10</td>\n",
       "      <td>1.376600e+10</td>\n",
       "      <td>465000000.0</td>\n",
       "      <td>...</td>\n",
       "      <td>0.0505</td>\n",
       "      <td>-0.0195</td>\n",
       "      <td>-0.0529</td>\n",
       "      <td>0.0012</td>\n",
       "      <td>0.0325</td>\n",
       "      <td>0.0</td>\n",
       "      <td>-0.0156</td>\n",
       "      <td>Consumer Defensive</td>\n",
       "      <td>4.975151</td>\n",
       "      <td>1</td>\n",
       "    </tr>\n",
       "    <tr>\n",
       "      <th>6</th>\n",
       "      <td>KO</td>\n",
       "      <td>3.541000e+10</td>\n",
       "      <td>-0.1541</td>\n",
       "      <td>1.325500e+10</td>\n",
       "      <td>2.215500e+10</td>\n",
       "      <td>0.0</td>\n",
       "      <td>1.265400e+10</td>\n",
       "      <td>1.455600e+10</td>\n",
       "      <td>7.599000e+09</td>\n",
       "      <td>841000000.0</td>\n",
       "      <td>...</td>\n",
       "      <td>-0.0490</td>\n",
       "      <td>-0.0075</td>\n",
       "      <td>0.0072</td>\n",
       "      <td>-0.2520</td>\n",
       "      <td>0.0432</td>\n",
       "      <td>0.0</td>\n",
       "      <td>-0.1767</td>\n",
       "      <td>Consumer Defensive</td>\n",
       "      <td>7.570641</td>\n",
       "      <td>1</td>\n",
       "    </tr>\n",
       "    <tr>\n",
       "      <th>17</th>\n",
       "      <td>TGT</td>\n",
       "      <td>7.027100e+10</td>\n",
       "      <td>-0.0476</td>\n",
       "      <td>4.914500e+10</td>\n",
       "      <td>2.112600e+10</td>\n",
       "      <td>0.0</td>\n",
       "      <td>1.421700e+10</td>\n",
       "      <td>1.626200e+10</td>\n",
       "      <td>4.864000e+09</td>\n",
       "      <td>991000000.0</td>\n",
       "      <td>...</td>\n",
       "      <td>0.0000</td>\n",
       "      <td>-0.0339</td>\n",
       "      <td>-0.0703</td>\n",
       "      <td>-0.0813</td>\n",
       "      <td>-0.0009</td>\n",
       "      <td>0.0</td>\n",
       "      <td>-0.0305</td>\n",
       "      <td>Consumer Defensive</td>\n",
       "      <td>0.986994</td>\n",
       "      <td>1</td>\n",
       "    </tr>\n",
       "    <tr>\n",
       "      <th>18</th>\n",
       "      <td>HRL</td>\n",
       "      <td>9.167519e+09</td>\n",
       "      <td>-0.0374</td>\n",
       "      <td>7.164356e+09</td>\n",
       "      <td>2.003163e+09</td>\n",
       "      <td>0.0</td>\n",
       "      <td>7.621040e+08</td>\n",
       "      <td>7.622840e+08</td>\n",
       "      <td>1.240879e+09</td>\n",
       "      <td>12683000.0</td>\n",
       "      <td>...</td>\n",
       "      <td>0.0457</td>\n",
       "      <td>-0.0656</td>\n",
       "      <td>0.0951</td>\n",
       "      <td>0.1116</td>\n",
       "      <td>0.0000</td>\n",
       "      <td>0.0</td>\n",
       "      <td>-0.1260</td>\n",
       "      <td>Consumer Defensive</td>\n",
       "      <td>20.441642</td>\n",
       "      <td>1</td>\n",
       "    </tr>\n",
       "    <tr>\n",
       "      <th>20</th>\n",
       "      <td>BUFF</td>\n",
       "      <td>1.275000e+09</td>\n",
       "      <td>NaN</td>\n",
       "      <td>6.860000e+08</td>\n",
       "      <td>5.890000e+08</td>\n",
       "      <td>NaN</td>\n",
       "      <td>2.860000e+08</td>\n",
       "      <td>2.860000e+08</td>\n",
       "      <td>3.030000e+08</td>\n",
       "      <td>11000000.0</td>\n",
       "      <td>...</td>\n",
       "      <td>NaN</td>\n",
       "      <td>NaN</td>\n",
       "      <td>NaN</td>\n",
       "      <td>NaN</td>\n",
       "      <td>NaN</td>\n",
       "      <td>NaN</td>\n",
       "      <td>NaN</td>\n",
       "      <td>Consumer Defensive</td>\n",
       "      <td>22.699392</td>\n",
       "      <td>1</td>\n",
       "    </tr>\n",
       "  </tbody>\n",
       "</table>\n",
       "<p>5 rows × 225 columns</p>\n",
       "</div>"
      ],
      "text/plain": [
       "   Unnamed: 0       Revenue  Revenue Growth  Cost of Revenue  Gross Profit  \\\n",
       "0          PG  6.505800e+10         -0.0037     3.263800e+10  3.242000e+10   \n",
       "6          KO  3.541000e+10         -0.1541     1.325500e+10  2.215500e+10   \n",
       "17        TGT  7.027100e+10         -0.0476     4.914500e+10  2.112600e+10   \n",
       "18        HRL  9.167519e+09         -0.0374     7.164356e+09  2.003163e+09   \n",
       "20       BUFF  1.275000e+09             NaN     6.860000e+08  5.890000e+08   \n",
       "\n",
       "    R&D Expenses  SG&A Expense  Operating Expenses  Operating Income  \\\n",
       "0            0.0  1.865400e+10        1.865400e+10      1.376600e+10   \n",
       "6            0.0  1.265400e+10        1.455600e+10      7.599000e+09   \n",
       "17           0.0  1.421700e+10        1.626200e+10      4.864000e+09   \n",
       "18           0.0  7.621040e+08        7.622840e+08      1.240879e+09   \n",
       "20           NaN  2.860000e+08        2.860000e+08      3.030000e+08   \n",
       "\n",
       "    Interest Expense  ...  Receivables growth  Inventory Growth  Asset Growth  \\\n",
       "0        465000000.0  ...              0.0505           -0.0195       -0.0529   \n",
       "6        841000000.0  ...             -0.0490           -0.0075        0.0072   \n",
       "17       991000000.0  ...              0.0000           -0.0339       -0.0703   \n",
       "18        12683000.0  ...              0.0457           -0.0656        0.0951   \n",
       "20        11000000.0  ...                 NaN               NaN           NaN   \n",
       "\n",
       "    Book Value per Share Growth  Debt Growth  R&D Expense Growth  \\\n",
       "0                        0.0012       0.0325                 0.0   \n",
       "6                       -0.2520       0.0432                 0.0   \n",
       "17                      -0.0813      -0.0009                 0.0   \n",
       "18                       0.1116       0.0000                 0.0   \n",
       "20                          NaN          NaN                 NaN   \n",
       "\n",
       "    SG&A Expenses Growth              Sector  2018 PRICE VAR [%]  Class  \n",
       "0                -0.0156  Consumer Defensive            4.975151      1  \n",
       "6                -0.1767  Consumer Defensive            7.570641      1  \n",
       "17               -0.0305  Consumer Defensive            0.986994      1  \n",
       "18               -0.1260  Consumer Defensive           20.441642      1  \n",
       "20                   NaN  Consumer Defensive           22.699392      1  \n",
       "\n",
       "[5 rows x 225 columns]"
      ]
     },
     "execution_count": 7,
     "metadata": {},
     "output_type": "execute_result"
    }
   ],
   "source": [
    "data.head()"
   ]
  },
  {
   "cell_type": "code",
   "execution_count": 8,
   "metadata": {
    "ExecuteTime": {
     "end_time": "2021-04-07T17:52:30.294102Z",
     "start_time": "2021-04-07T17:52:30.282252Z"
    }
   },
   "outputs": [
    {
     "name": "stdout",
     "output_type": "stream",
     "text": [
      "<class 'pandas.core.frame.DataFrame'>\n",
      "Int64Index: 1370 entries, 0 to 4956\n",
      "Columns: 225 entries, Unnamed: 0 to Class\n",
      "dtypes: float64(222), int64(1), object(2)\n",
      "memory usage: 2.4+ MB\n"
     ]
    }
   ],
   "source": [
    "data.info()"
   ]
  },
  {
   "cell_type": "code",
   "execution_count": 9,
   "metadata": {
    "ExecuteTime": {
     "end_time": "2021-04-07T17:52:30.936943Z",
     "start_time": "2021-04-07T17:52:30.929915Z"
    }
   },
   "outputs": [
    {
     "data": {
      "text/plain": [
       "1    1370\n",
       "Name: Class, dtype: int64"
      ]
     },
     "execution_count": 9,
     "metadata": {},
     "output_type": "execute_result"
    }
   ],
   "source": [
    "data.Class.value_counts()"
   ]
  },
  {
   "cell_type": "code",
   "execution_count": 10,
   "metadata": {
    "ExecuteTime": {
     "end_time": "2021-04-07T17:52:44.897266Z",
     "start_time": "2021-04-07T17:52:44.580073Z"
    }
   },
   "outputs": [],
   "source": [
    "data.to_csv('2017_clean')"
   ]
  },
  {
   "cell_type": "code",
   "execution_count": null,
   "metadata": {},
   "outputs": [],
   "source": []
  }
 ],
 "metadata": {
  "kernelspec": {
   "display_name": "Python 3",
   "language": "python",
   "name": "python3"
  },
  "language_info": {
   "codemirror_mode": {
    "name": "ipython",
    "version": 3
   },
   "file_extension": ".py",
   "mimetype": "text/x-python",
   "name": "python",
   "nbconvert_exporter": "python",
   "pygments_lexer": "ipython3",
   "version": "3.6.9"
  },
  "toc": {
   "base_numbering": 1,
   "nav_menu": {},
   "number_sections": true,
   "sideBar": true,
   "skip_h1_title": false,
   "title_cell": "Table of Contents",
   "title_sidebar": "Contents",
   "toc_cell": false,
   "toc_position": {},
   "toc_section_display": true,
   "toc_window_display": false
  },
  "varInspector": {
   "cols": {
    "lenName": 16,
    "lenType": 16,
    "lenVar": 40
   },
   "kernels_config": {
    "python": {
     "delete_cmd_postfix": "",
     "delete_cmd_prefix": "del ",
     "library": "var_list.py",
     "varRefreshCmd": "print(var_dic_list())"
    },
    "r": {
     "delete_cmd_postfix": ") ",
     "delete_cmd_prefix": "rm(",
     "library": "var_list.r",
     "varRefreshCmd": "cat(var_dic_list()) "
    }
   },
   "types_to_exclude": [
    "module",
    "function",
    "builtin_function_or_method",
    "instance",
    "_Feature"
   ],
   "window_display": false
  }
 },
 "nbformat": 4,
 "nbformat_minor": 4
}
