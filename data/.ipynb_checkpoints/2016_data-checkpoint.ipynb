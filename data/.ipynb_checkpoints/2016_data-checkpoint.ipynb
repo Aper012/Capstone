{
 "cells": [
  {
   "cell_type": "code",
   "execution_count": 1,
   "metadata": {
    "ExecuteTime": {
     "end_time": "2021-04-07T17:50:22.447243Z",
     "start_time": "2021-04-07T17:50:21.701822Z"
    }
   },
   "outputs": [],
   "source": [
    "import pandas as pd\n",
    "import numpy as np\n",
    "import seaborn as sns \n",
    "import matplotlib.pyplot as plt\n",
    "%matplotlib inline"
   ]
  },
  {
   "cell_type": "code",
   "execution_count": 3,
   "metadata": {
    "ExecuteTime": {
     "end_time": "2021-04-07T17:50:31.284134Z",
     "start_time": "2021-04-07T17:50:31.073854Z"
    }
   },
   "outputs": [
    {
     "data": {
      "text/html": [
       "<div>\n",
       "<style scoped>\n",
       "    .dataframe tbody tr th:only-of-type {\n",
       "        vertical-align: middle;\n",
       "    }\n",
       "\n",
       "    .dataframe tbody tr th {\n",
       "        vertical-align: top;\n",
       "    }\n",
       "\n",
       "    .dataframe thead th {\n",
       "        text-align: right;\n",
       "    }\n",
       "</style>\n",
       "<table border=\"1\" class=\"dataframe\">\n",
       "  <thead>\n",
       "    <tr style=\"text-align: right;\">\n",
       "      <th></th>\n",
       "      <th>Unnamed: 0</th>\n",
       "      <th>Revenue</th>\n",
       "      <th>Revenue Growth</th>\n",
       "      <th>Cost of Revenue</th>\n",
       "      <th>Gross Profit</th>\n",
       "      <th>R&amp;D Expenses</th>\n",
       "      <th>SG&amp;A Expense</th>\n",
       "      <th>Operating Expenses</th>\n",
       "      <th>Operating Income</th>\n",
       "      <th>Interest Expense</th>\n",
       "      <th>...</th>\n",
       "      <th>Receivables growth</th>\n",
       "      <th>Inventory Growth</th>\n",
       "      <th>Asset Growth</th>\n",
       "      <th>Book Value per Share Growth</th>\n",
       "      <th>Debt Growth</th>\n",
       "      <th>R&amp;D Expense Growth</th>\n",
       "      <th>SG&amp;A Expenses Growth</th>\n",
       "      <th>Sector</th>\n",
       "      <th>2017 PRICE VAR [%]</th>\n",
       "      <th>Class</th>\n",
       "    </tr>\n",
       "  </thead>\n",
       "  <tbody>\n",
       "    <tr>\n",
       "      <th>0</th>\n",
       "      <td>PG</td>\n",
       "      <td>6.529900e+10</td>\n",
       "      <td>-0.0770</td>\n",
       "      <td>3.290900e+10</td>\n",
       "      <td>3.239000e+10</td>\n",
       "      <td>0.000000e+00</td>\n",
       "      <td>1.894900e+10</td>\n",
       "      <td>1.894900e+10</td>\n",
       "      <td>1.344100e+10</td>\n",
       "      <td>5.790000e+08</td>\n",
       "      <td>...</td>\n",
       "      <td>-0.0427</td>\n",
       "      <td>-0.0528</td>\n",
       "      <td>-0.0182</td>\n",
       "      <td>-0.0627</td>\n",
       "      <td>0.0083</td>\n",
       "      <td>0.0000</td>\n",
       "      <td>-0.0809</td>\n",
       "      <td>Consumer Defensive</td>\n",
       "      <td>12.532463</td>\n",
       "      <td>1</td>\n",
       "    </tr>\n",
       "    <tr>\n",
       "      <th>1</th>\n",
       "      <td>VIPS</td>\n",
       "      <td>8.148496e+09</td>\n",
       "      <td>0.3156</td>\n",
       "      <td>6.190740e+09</td>\n",
       "      <td>1.957756e+09</td>\n",
       "      <td>2.251378e+08</td>\n",
       "      <td>6.880959e+08</td>\n",
       "      <td>1.567877e+09</td>\n",
       "      <td>3.898789e+08</td>\n",
       "      <td>1.226710e+07</td>\n",
       "      <td>...</td>\n",
       "      <td>0.9234</td>\n",
       "      <td>0.0128</td>\n",
       "      <td>0.1706</td>\n",
       "      <td>0.5109</td>\n",
       "      <td>-0.0139</td>\n",
       "      <td>0.3575</td>\n",
       "      <td>0.3172</td>\n",
       "      <td>Consumer Defensive</td>\n",
       "      <td>4.363319</td>\n",
       "      <td>1</td>\n",
       "    </tr>\n",
       "    <tr>\n",
       "      <th>2</th>\n",
       "      <td>KR</td>\n",
       "      <td>1.098300e+11</td>\n",
       "      <td>0.0126</td>\n",
       "      <td>8.549600e+10</td>\n",
       "      <td>2.433400e+10</td>\n",
       "      <td>0.000000e+00</td>\n",
       "      <td>1.794600e+10</td>\n",
       "      <td>2.075800e+10</td>\n",
       "      <td>3.576000e+09</td>\n",
       "      <td>4.820000e+08</td>\n",
       "      <td>...</td>\n",
       "      <td>0.3697</td>\n",
       "      <td>0.0844</td>\n",
       "      <td>0.1115</td>\n",
       "      <td>0.2797</td>\n",
       "      <td>0.0416</td>\n",
       "      <td>0.0000</td>\n",
       "      <td>0.0457</td>\n",
       "      <td>Consumer Defensive</td>\n",
       "      <td>-17.068252</td>\n",
       "      <td>0</td>\n",
       "    </tr>\n",
       "    <tr>\n",
       "      <th>3</th>\n",
       "      <td>RAD</td>\n",
       "      <td>2.077024e+10</td>\n",
       "      <td>-0.2171</td>\n",
       "      <td>1.577826e+10</td>\n",
       "      <td>4.991979e+09</td>\n",
       "      <td>0.000000e+00</td>\n",
       "      <td>4.581171e+09</td>\n",
       "      <td>4.621042e+09</td>\n",
       "      <td>3.709370e+08</td>\n",
       "      <td>1.861320e+08</td>\n",
       "      <td>...</td>\n",
       "      <td>0.6322</td>\n",
       "      <td>-0.0645</td>\n",
       "      <td>0.2848</td>\n",
       "      <td>8.5628</td>\n",
       "      <td>0.2581</td>\n",
       "      <td>0.0000</td>\n",
       "      <td>-0.3158</td>\n",
       "      <td>Consumer Defensive</td>\n",
       "      <td>-75.916870</td>\n",
       "      <td>0</td>\n",
       "    </tr>\n",
       "    <tr>\n",
       "      <th>4</th>\n",
       "      <td>GIS</td>\n",
       "      <td>1.656310e+10</td>\n",
       "      <td>-0.0605</td>\n",
       "      <td>1.073360e+10</td>\n",
       "      <td>5.829500e+09</td>\n",
       "      <td>0.000000e+00</td>\n",
       "      <td>3.118900e+09</td>\n",
       "      <td>3.270300e+09</td>\n",
       "      <td>2.559200e+09</td>\n",
       "      <td>3.038000e+08</td>\n",
       "      <td>...</td>\n",
       "      <td>-0.0187</td>\n",
       "      <td>-0.0825</td>\n",
       "      <td>-0.0055</td>\n",
       "      <td>-0.0105</td>\n",
       "      <td>-0.0828</td>\n",
       "      <td>0.0000</td>\n",
       "      <td>-0.0628</td>\n",
       "      <td>Consumer Defensive</td>\n",
       "      <td>-1.162942</td>\n",
       "      <td>0</td>\n",
       "    </tr>\n",
       "  </tbody>\n",
       "</table>\n",
       "<p>5 rows × 225 columns</p>\n",
       "</div>"
      ],
      "text/plain": [
       "  Unnamed: 0       Revenue  Revenue Growth  Cost of Revenue  Gross Profit  \\\n",
       "0         PG  6.529900e+10         -0.0770     3.290900e+10  3.239000e+10   \n",
       "1       VIPS  8.148496e+09          0.3156     6.190740e+09  1.957756e+09   \n",
       "2         KR  1.098300e+11          0.0126     8.549600e+10  2.433400e+10   \n",
       "3        RAD  2.077024e+10         -0.2171     1.577826e+10  4.991979e+09   \n",
       "4        GIS  1.656310e+10         -0.0605     1.073360e+10  5.829500e+09   \n",
       "\n",
       "   R&D Expenses  SG&A Expense  Operating Expenses  Operating Income  \\\n",
       "0  0.000000e+00  1.894900e+10        1.894900e+10      1.344100e+10   \n",
       "1  2.251378e+08  6.880959e+08        1.567877e+09      3.898789e+08   \n",
       "2  0.000000e+00  1.794600e+10        2.075800e+10      3.576000e+09   \n",
       "3  0.000000e+00  4.581171e+09        4.621042e+09      3.709370e+08   \n",
       "4  0.000000e+00  3.118900e+09        3.270300e+09      2.559200e+09   \n",
       "\n",
       "   Interest Expense  ...  Receivables growth  Inventory Growth  Asset Growth  \\\n",
       "0      5.790000e+08  ...             -0.0427           -0.0528       -0.0182   \n",
       "1      1.226710e+07  ...              0.9234            0.0128        0.1706   \n",
       "2      4.820000e+08  ...              0.3697            0.0844        0.1115   \n",
       "3      1.861320e+08  ...              0.6322           -0.0645        0.2848   \n",
       "4      3.038000e+08  ...             -0.0187           -0.0825       -0.0055   \n",
       "\n",
       "   Book Value per Share Growth  Debt Growth  R&D Expense Growth  \\\n",
       "0                      -0.0627       0.0083              0.0000   \n",
       "1                       0.5109      -0.0139              0.3575   \n",
       "2                       0.2797       0.0416              0.0000   \n",
       "3                       8.5628       0.2581              0.0000   \n",
       "4                      -0.0105      -0.0828              0.0000   \n",
       "\n",
       "   SG&A Expenses Growth              Sector  2017 PRICE VAR [%]  Class  \n",
       "0               -0.0809  Consumer Defensive           12.532463      1  \n",
       "1                0.3172  Consumer Defensive            4.363319      1  \n",
       "2                0.0457  Consumer Defensive          -17.068252      0  \n",
       "3               -0.3158  Consumer Defensive          -75.916870      0  \n",
       "4               -0.0628  Consumer Defensive           -1.162942      0  \n",
       "\n",
       "[5 rows x 225 columns]"
      ]
     },
     "execution_count": 3,
     "metadata": {},
     "output_type": "execute_result"
    }
   ],
   "source": [
    "df = pd.read_csv('../csv_files/2016_Financial_Data.csv')\n",
    "df.head()"
   ]
  },
  {
   "cell_type": "code",
   "execution_count": 4,
   "metadata": {
    "ExecuteTime": {
     "end_time": "2021-04-07T17:50:31.995714Z",
     "start_time": "2021-04-07T17:50:31.985051Z"
    }
   },
   "outputs": [
    {
     "name": "stdout",
     "output_type": "stream",
     "text": [
      "<class 'pandas.core.frame.DataFrame'>\n",
      "RangeIndex: 4797 entries, 0 to 4796\n",
      "Columns: 225 entries, Unnamed: 0 to Class\n",
      "dtypes: float64(222), int64(1), object(2)\n",
      "memory usage: 8.2+ MB\n"
     ]
    }
   ],
   "source": [
    "df.info()\n"
   ]
  },
  {
   "cell_type": "code",
   "execution_count": 5,
   "metadata": {
    "ExecuteTime": {
     "end_time": "2021-04-07T17:50:32.652420Z",
     "start_time": "2021-04-07T17:50:32.640600Z"
    }
   },
   "outputs": [
    {
     "data": {
      "text/plain": [
       "Unnamed: 0                0\n",
       "Revenue                 489\n",
       "Revenue Growth          649\n",
       "Cost of Revenue         640\n",
       "Gross Profit            492\n",
       "                       ... \n",
       "R&D Expense Growth      772\n",
       "SG&A Expenses Growth    756\n",
       "Sector                    0\n",
       "2017 PRICE VAR [%]        0\n",
       "Class                     0\n",
       "Length: 225, dtype: int64"
      ]
     },
     "execution_count": 5,
     "metadata": {},
     "output_type": "execute_result"
    }
   ],
   "source": [
    "df.isna().sum()"
   ]
  },
  {
   "cell_type": "code",
   "execution_count": 6,
   "metadata": {
    "ExecuteTime": {
     "end_time": "2021-04-07T17:50:33.305539Z",
     "start_time": "2021-04-07T17:50:33.200361Z"
    }
   },
   "outputs": [
    {
     "data": {
      "text/plain": [
       "0"
      ]
     },
     "execution_count": 6,
     "metadata": {},
     "output_type": "execute_result"
    }
   ],
   "source": [
    "df.duplicated().sum()"
   ]
  },
  {
   "cell_type": "code",
   "execution_count": 7,
   "metadata": {
    "ExecuteTime": {
     "end_time": "2021-04-07T17:50:33.704379Z",
     "start_time": "2021-04-07T17:50:33.695621Z"
    }
   },
   "outputs": [],
   "source": [
    "data = df[df['Class'] == 1]"
   ]
  },
  {
   "cell_type": "code",
   "execution_count": 8,
   "metadata": {
    "ExecuteTime": {
     "end_time": "2021-04-07T17:50:34.182746Z",
     "start_time": "2021-04-07T17:50:34.146864Z"
    }
   },
   "outputs": [
    {
     "data": {
      "text/html": [
       "<div>\n",
       "<style scoped>\n",
       "    .dataframe tbody tr th:only-of-type {\n",
       "        vertical-align: middle;\n",
       "    }\n",
       "\n",
       "    .dataframe tbody tr th {\n",
       "        vertical-align: top;\n",
       "    }\n",
       "\n",
       "    .dataframe thead th {\n",
       "        text-align: right;\n",
       "    }\n",
       "</style>\n",
       "<table border=\"1\" class=\"dataframe\">\n",
       "  <thead>\n",
       "    <tr style=\"text-align: right;\">\n",
       "      <th></th>\n",
       "      <th>Unnamed: 0</th>\n",
       "      <th>Revenue</th>\n",
       "      <th>Revenue Growth</th>\n",
       "      <th>Cost of Revenue</th>\n",
       "      <th>Gross Profit</th>\n",
       "      <th>R&amp;D Expenses</th>\n",
       "      <th>SG&amp;A Expense</th>\n",
       "      <th>Operating Expenses</th>\n",
       "      <th>Operating Income</th>\n",
       "      <th>Interest Expense</th>\n",
       "      <th>...</th>\n",
       "      <th>Receivables growth</th>\n",
       "      <th>Inventory Growth</th>\n",
       "      <th>Asset Growth</th>\n",
       "      <th>Book Value per Share Growth</th>\n",
       "      <th>Debt Growth</th>\n",
       "      <th>R&amp;D Expense Growth</th>\n",
       "      <th>SG&amp;A Expenses Growth</th>\n",
       "      <th>Sector</th>\n",
       "      <th>2017 PRICE VAR [%]</th>\n",
       "      <th>Class</th>\n",
       "    </tr>\n",
       "  </thead>\n",
       "  <tbody>\n",
       "    <tr>\n",
       "      <th>0</th>\n",
       "      <td>PG</td>\n",
       "      <td>6.529900e+10</td>\n",
       "      <td>-0.0770</td>\n",
       "      <td>3.290900e+10</td>\n",
       "      <td>3.239000e+10</td>\n",
       "      <td>0.000000e+00</td>\n",
       "      <td>1.894900e+10</td>\n",
       "      <td>1.894900e+10</td>\n",
       "      <td>1.344100e+10</td>\n",
       "      <td>5.790000e+08</td>\n",
       "      <td>...</td>\n",
       "      <td>-0.0427</td>\n",
       "      <td>-0.0528</td>\n",
       "      <td>-0.0182</td>\n",
       "      <td>-0.0627</td>\n",
       "      <td>0.0083</td>\n",
       "      <td>0.0000</td>\n",
       "      <td>-0.0809</td>\n",
       "      <td>Consumer Defensive</td>\n",
       "      <td>12.532463</td>\n",
       "      <td>1</td>\n",
       "    </tr>\n",
       "    <tr>\n",
       "      <th>1</th>\n",
       "      <td>VIPS</td>\n",
       "      <td>8.148496e+09</td>\n",
       "      <td>0.3156</td>\n",
       "      <td>6.190740e+09</td>\n",
       "      <td>1.957756e+09</td>\n",
       "      <td>2.251378e+08</td>\n",
       "      <td>6.880959e+08</td>\n",
       "      <td>1.567877e+09</td>\n",
       "      <td>3.898789e+08</td>\n",
       "      <td>1.226710e+07</td>\n",
       "      <td>...</td>\n",
       "      <td>0.9234</td>\n",
       "      <td>0.0128</td>\n",
       "      <td>0.1706</td>\n",
       "      <td>0.5109</td>\n",
       "      <td>-0.0139</td>\n",
       "      <td>0.3575</td>\n",
       "      <td>0.3172</td>\n",
       "      <td>Consumer Defensive</td>\n",
       "      <td>4.363319</td>\n",
       "      <td>1</td>\n",
       "    </tr>\n",
       "    <tr>\n",
       "      <th>5</th>\n",
       "      <td>PM</td>\n",
       "      <td>7.495300e+10</td>\n",
       "      <td>0.0141</td>\n",
       "      <td>5.765900e+10</td>\n",
       "      <td>1.729400e+10</td>\n",
       "      <td>0.000000e+00</td>\n",
       "      <td>6.317000e+09</td>\n",
       "      <td>6.391000e+09</td>\n",
       "      <td>1.090300e+10</td>\n",
       "      <td>8.910000e+08</td>\n",
       "      <td>...</td>\n",
       "      <td>0.2595</td>\n",
       "      <td>0.0642</td>\n",
       "      <td>0.0853</td>\n",
       "      <td>0.0432</td>\n",
       "      <td>0.0206</td>\n",
       "      <td>0.0000</td>\n",
       "      <td>-0.0509</td>\n",
       "      <td>Consumer Defensive</td>\n",
       "      <td>20.190039</td>\n",
       "      <td>1</td>\n",
       "    </tr>\n",
       "    <tr>\n",
       "      <th>6</th>\n",
       "      <td>KO</td>\n",
       "      <td>4.186300e+10</td>\n",
       "      <td>-0.0549</td>\n",
       "      <td>1.646500e+10</td>\n",
       "      <td>2.539800e+10</td>\n",
       "      <td>0.000000e+00</td>\n",
       "      <td>1.537000e+10</td>\n",
       "      <td>1.674100e+10</td>\n",
       "      <td>8.657000e+09</td>\n",
       "      <td>7.330000e+08</td>\n",
       "      <td>...</td>\n",
       "      <td>-0.0216</td>\n",
       "      <td>-0.0782</td>\n",
       "      <td>-0.0303</td>\n",
       "      <td>-0.0903</td>\n",
       "      <td>0.0361</td>\n",
       "      <td>0.0000</td>\n",
       "      <td>-0.0643</td>\n",
       "      <td>Consumer Defensive</td>\n",
       "      <td>13.451708</td>\n",
       "      <td>1</td>\n",
       "    </tr>\n",
       "    <tr>\n",
       "      <th>7</th>\n",
       "      <td>WMT</td>\n",
       "      <td>4.821300e+11</td>\n",
       "      <td>-0.0073</td>\n",
       "      <td>3.609840e+11</td>\n",
       "      <td>1.211460e+11</td>\n",
       "      <td>0.000000e+00</td>\n",
       "      <td>9.704100e+10</td>\n",
       "      <td>9.704100e+10</td>\n",
       "      <td>2.410500e+10</td>\n",
       "      <td>2.548000e+09</td>\n",
       "      <td>...</td>\n",
       "      <td>-0.1703</td>\n",
       "      <td>-0.0149</td>\n",
       "      <td>-0.0192</td>\n",
       "      <td>-0.0033</td>\n",
       "      <td>-0.0026</td>\n",
       "      <td>0.0000</td>\n",
       "      <td>0.0388</td>\n",
       "      <td>Consumer Defensive</td>\n",
       "      <td>47.542643</td>\n",
       "      <td>1</td>\n",
       "    </tr>\n",
       "  </tbody>\n",
       "</table>\n",
       "<p>5 rows × 225 columns</p>\n",
       "</div>"
      ],
      "text/plain": [
       "  Unnamed: 0       Revenue  Revenue Growth  Cost of Revenue  Gross Profit  \\\n",
       "0         PG  6.529900e+10         -0.0770     3.290900e+10  3.239000e+10   \n",
       "1       VIPS  8.148496e+09          0.3156     6.190740e+09  1.957756e+09   \n",
       "5         PM  7.495300e+10          0.0141     5.765900e+10  1.729400e+10   \n",
       "6         KO  4.186300e+10         -0.0549     1.646500e+10  2.539800e+10   \n",
       "7        WMT  4.821300e+11         -0.0073     3.609840e+11  1.211460e+11   \n",
       "\n",
       "   R&D Expenses  SG&A Expense  Operating Expenses  Operating Income  \\\n",
       "0  0.000000e+00  1.894900e+10        1.894900e+10      1.344100e+10   \n",
       "1  2.251378e+08  6.880959e+08        1.567877e+09      3.898789e+08   \n",
       "5  0.000000e+00  6.317000e+09        6.391000e+09      1.090300e+10   \n",
       "6  0.000000e+00  1.537000e+10        1.674100e+10      8.657000e+09   \n",
       "7  0.000000e+00  9.704100e+10        9.704100e+10      2.410500e+10   \n",
       "\n",
       "   Interest Expense  ...  Receivables growth  Inventory Growth  Asset Growth  \\\n",
       "0      5.790000e+08  ...             -0.0427           -0.0528       -0.0182   \n",
       "1      1.226710e+07  ...              0.9234            0.0128        0.1706   \n",
       "5      8.910000e+08  ...              0.2595            0.0642        0.0853   \n",
       "6      7.330000e+08  ...             -0.0216           -0.0782       -0.0303   \n",
       "7      2.548000e+09  ...             -0.1703           -0.0149       -0.0192   \n",
       "\n",
       "   Book Value per Share Growth  Debt Growth  R&D Expense Growth  \\\n",
       "0                      -0.0627       0.0083              0.0000   \n",
       "1                       0.5109      -0.0139              0.3575   \n",
       "5                       0.0432       0.0206              0.0000   \n",
       "6                      -0.0903       0.0361              0.0000   \n",
       "7                      -0.0033      -0.0026              0.0000   \n",
       "\n",
       "   SG&A Expenses Growth              Sector  2017 PRICE VAR [%]  Class  \n",
       "0               -0.0809  Consumer Defensive           12.532463      1  \n",
       "1                0.3172  Consumer Defensive            4.363319      1  \n",
       "5               -0.0509  Consumer Defensive           20.190039      1  \n",
       "6               -0.0643  Consumer Defensive           13.451708      1  \n",
       "7                0.0388  Consumer Defensive           47.542643      1  \n",
       "\n",
       "[5 rows x 225 columns]"
      ]
     },
     "execution_count": 8,
     "metadata": {},
     "output_type": "execute_result"
    }
   ],
   "source": [
    "data.head()"
   ]
  },
  {
   "cell_type": "code",
   "execution_count": 9,
   "metadata": {
    "ExecuteTime": {
     "end_time": "2021-04-07T17:50:34.682853Z",
     "start_time": "2021-04-07T17:50:34.671765Z"
    }
   },
   "outputs": [
    {
     "name": "stdout",
     "output_type": "stream",
     "text": [
      "<class 'pandas.core.frame.DataFrame'>\n",
      "Int64Index: 3218 entries, 0 to 4796\n",
      "Columns: 225 entries, Unnamed: 0 to Class\n",
      "dtypes: float64(222), int64(1), object(2)\n",
      "memory usage: 5.5+ MB\n"
     ]
    }
   ],
   "source": [
    "data.info()"
   ]
  },
  {
   "cell_type": "code",
   "execution_count": 10,
   "metadata": {
    "ExecuteTime": {
     "end_time": "2021-04-07T17:50:35.420808Z",
     "start_time": "2021-04-07T17:50:35.403488Z"
    }
   },
   "outputs": [
    {
     "data": {
      "text/plain": [
       "1    3218\n",
       "Name: Class, dtype: int64"
      ]
     },
     "execution_count": 10,
     "metadata": {},
     "output_type": "execute_result"
    }
   ],
   "source": [
    "data.Class.value_counts()"
   ]
  },
  {
   "cell_type": "code",
   "execution_count": 11,
   "metadata": {
    "ExecuteTime": {
     "end_time": "2021-04-07T17:52:01.284842Z",
     "start_time": "2021-04-07T17:52:00.609248Z"
    }
   },
   "outputs": [],
   "source": [
    "data.to_csv('2016_clean')"
   ]
  },
  {
   "cell_type": "code",
   "execution_count": null,
   "metadata": {},
   "outputs": [],
   "source": []
  }
 ],
 "metadata": {
  "kernelspec": {
   "display_name": "Python 3",
   "language": "python",
   "name": "python3"
  },
  "language_info": {
   "codemirror_mode": {
    "name": "ipython",
    "version": 3
   },
   "file_extension": ".py",
   "mimetype": "text/x-python",
   "name": "python",
   "nbconvert_exporter": "python",
   "pygments_lexer": "ipython3",
   "version": "3.6.9"
  },
  "toc": {
   "base_numbering": 1,
   "nav_menu": {},
   "number_sections": true,
   "sideBar": true,
   "skip_h1_title": false,
   "title_cell": "Table of Contents",
   "title_sidebar": "Contents",
   "toc_cell": false,
   "toc_position": {},
   "toc_section_display": true,
   "toc_window_display": false
  },
  "varInspector": {
   "cols": {
    "lenName": 16,
    "lenType": 16,
    "lenVar": 40
   },
   "kernels_config": {
    "python": {
     "delete_cmd_postfix": "",
     "delete_cmd_prefix": "del ",
     "library": "var_list.py",
     "varRefreshCmd": "print(var_dic_list())"
    },
    "r": {
     "delete_cmd_postfix": ") ",
     "delete_cmd_prefix": "rm(",
     "library": "var_list.r",
     "varRefreshCmd": "cat(var_dic_list()) "
    }
   },
   "types_to_exclude": [
    "module",
    "function",
    "builtin_function_or_method",
    "instance",
    "_Feature"
   ],
   "window_display": false
  }
 },
 "nbformat": 4,
 "nbformat_minor": 4
}
